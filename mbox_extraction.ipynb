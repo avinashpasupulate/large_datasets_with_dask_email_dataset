{
 "cells": [
  {
   "cell_type": "code",
   "execution_count": 300,
   "metadata": {},
   "outputs": [],
   "source": [
    "# importing all packages that may be required\n",
    "import os\n",
    "#import gc\n",
    "import re\n",
    "import csv\n",
    "import html\n",
    "import copy\n",
    "#import tqdm\n",
    "import time\n",
    "import mailbox\n",
    "import unicodedata\n",
    "import pandas as pd\n",
    "#import multiprocessing\n",
    "from bs4 import BeautifulSoup\n",
    "from dask import dataframe as dd\n",
    "from dask.multiprocessing import get\n",
    "from nltk.stem import WordNetLemmatizer as wnl\n",
    "from nltk import pos_tag as pt\n",
    "from nltk.corpus import wordnet as wn"
   ]
  },
  {
   "cell_type": "code",
   "execution_count": 249,
   "metadata": {},
   "outputs": [],
   "source": [
    "cwd = os.getcwd()"
   ]
  },
  {
   "cell_type": "code",
   "execution_count": 243,
   "metadata": {},
   "outputs": [],
   "source": [
    "# importing mailbox\n",
    "mail_container = mailbox.mbox(cwd+'/raw_data/podesta-emails.mbox-2016-11-06')"
   ]
  },
  {
   "cell_type": "code",
   "execution_count": 244,
   "metadata": {},
   "outputs": [],
   "source": [
    "# making working copy\n",
    "mail_cp = copy.copy(mail_container)"
   ]
  },
  {
   "cell_type": "code",
   "execution_count": 62,
   "metadata": {},
   "outputs": [],
   "source": [
    "# creating function to extract body and other tags & write to a csv file (9.18Gb)\n",
    "def extract(mail_cp):\n",
    "    try:\n",
    "        with open('podesta_mailbox.csv', 'w', encoding='utf-8') as file:\n",
    "            writer = csv.writer(file)\n",
    "            writer.writerow(['date', 'from', 'to', 'subject', 'originator_org', 'spam_header', 'msg_body'])\n",
    "            for mail in mail_cp.itervalues():\n",
    "                msg=mail\n",
    "                if mail.is_multipart():\n",
    "                    msg_content = ''.join(str(part.get_payload(decode=True)) for part in mail.walk())\n",
    "                else:\n",
    "                    msg_content = mail.get_payload(decode=True)\n",
    "                writer.writerow([mail['Date'], mail['From'], mail['To'],\n",
    "                                 mail['Subject'], mail['X-OriginatorOrg'],\n",
    "                                 mail['SpamDiagnosticMetadata'],msg_content])\n",
    "    except:\n",
    "        pass"
   ]
  },
  {
   "cell_type": "code",
   "execution_count": 248,
   "metadata": {},
   "outputs": [
    {
     "name": "stdout",
     "output_type": "stream",
     "text": [
      "1092.792960882187\n"
     ]
    }
   ],
   "source": [
    "# running function and display time\n",
    "%time extract(mail_cp)\n",
    "# 15 mins - 9.18 gb"
   ]
  },
  {
   "cell_type": "code",
   "execution_count": null,
   "metadata": {},
   "outputs": [],
   "source": [
    "# deleting unwanted variables\n",
    "%who\n",
    "del extract\n",
    "del mail_cp\n",
    "del mailbox\n",
    "del mail_container"
   ]
  },
  {
   "cell_type": "code",
   "execution_count": null,
   "metadata": {},
   "outputs": [],
   "source": [
    "# spam headers = https://docs.microsoft.com/en-us/office365/securitycompliance/anti-spam-message-headers"
   ]
  },
  {
   "cell_type": "code",
   "execution_count": 133,
   "metadata": {},
   "outputs": [],
   "source": [
    "# listing datatypes of dataframe and including in importing csv with 50Mb blocksize\n",
    "dtypes={'date': 'object', 'from': 'object', 'to': 'object', 'subject': 'object', 'originator_org': 'object', 'spam_header': 'object','msg_body': 'object'}\n",
    "podesta = dd.read_csv(cwd+'/podesta_mailbox.csv', dtype=dtypes, blocksize=50e6)"
   ]
  },
  {
   "cell_type": "code",
   "execution_count": 134,
   "metadata": {},
   "outputs": [
    {
     "data": {
      "text/html": [
       "<div>\n",
       "<style scoped>\n",
       "    .dataframe tbody tr th:only-of-type {\n",
       "        vertical-align: middle;\n",
       "    }\n",
       "\n",
       "    .dataframe tbody tr th {\n",
       "        vertical-align: top;\n",
       "    }\n",
       "\n",
       "    .dataframe thead th {\n",
       "        text-align: right;\n",
       "    }\n",
       "</style>\n",
       "<table border=\"1\" class=\"dataframe\">\n",
       "  <thead>\n",
       "    <tr style=\"text-align: right;\">\n",
       "      <th></th>\n",
       "      <th>date</th>\n",
       "      <th>from</th>\n",
       "      <th>to</th>\n",
       "      <th>subject</th>\n",
       "      <th>originator_org</th>\n",
       "      <th>spam_header</th>\n",
       "      <th>msg_body</th>\n",
       "    </tr>\n",
       "  </thead>\n",
       "  <tbody>\n",
       "    <tr>\n",
       "      <th>0</th>\n",
       "      <td>Fri, 3 Apr 2015 14:06:30 +0000</td>\n",
       "      <td>Tina Flournoy &lt;Tina@presidentclinton.com&gt;</td>\n",
       "      <td>John Podesta &lt;john.podesta@gmail.com&gt;</td>\n",
       "      <td>just talked to him</td>\n",
       "      <td>NaN</td>\n",
       "      <td>NaN</td>\n",
       "      <td>b'\\n\\nSC was the first thing he mentioned.\\nTo...</td>\n",
       "    </tr>\n",
       "    <tr>\n",
       "      <th>1</th>\n",
       "      <td>Mon, 22 Feb 2016 23:00:30 +0000</td>\n",
       "      <td>Ira Shapiro &lt;ira@shapiroglobal.com&gt;</td>\n",
       "      <td>John Podesta &lt;john.podesta@gmail.com&gt;</td>\n",
       "      <td>today's fundraiser</td>\n",
       "      <td>shapiroglobal.com</td>\n",
       "      <td>NSPM</td>\n",
       "      <td>Noneb\"John,\\n\\nSorry we didn't get to visit th...</td>\n",
       "    </tr>\n",
       "  </tbody>\n",
       "</table>\n",
       "</div>"
      ],
      "text/plain": [
       "                              date                                       from  \\\n",
       "0   Fri, 3 Apr 2015 14:06:30 +0000  Tina Flournoy <Tina@presidentclinton.com>   \n",
       "1  Mon, 22 Feb 2016 23:00:30 +0000        Ira Shapiro <ira@shapiroglobal.com>   \n",
       "\n",
       "                                      to             subject  \\\n",
       "0  John Podesta <john.podesta@gmail.com>  just talked to him   \n",
       "1  John Podesta <john.podesta@gmail.com>  today's fundraiser   \n",
       "\n",
       "      originator_org spam_header  \\\n",
       "0                NaN         NaN   \n",
       "1  shapiroglobal.com        NSPM   \n",
       "\n",
       "                                            msg_body  \n",
       "0  b'\\n\\nSC was the first thing he mentioned.\\nTo...  \n",
       "1  Noneb\"John,\\n\\nSorry we didn't get to visit th...  "
      ]
     },
     "execution_count": 134,
     "metadata": {},
     "output_type": "execute_result"
    }
   ],
   "source": [
    "podesta.head(2)"
   ]
  },
  {
   "cell_type": "code",
   "execution_count": 50,
   "metadata": {},
   "outputs": [
    {
     "data": {
      "text/plain": [
       "184"
      ]
     },
     "execution_count": 50,
     "metadata": {},
     "output_type": "execute_result"
    }
   ],
   "source": [
    "podesta.npartitions"
   ]
  },
  {
   "cell_type": "code",
   "execution_count": 190,
   "metadata": {},
   "outputs": [
    {
     "name": "stdout",
     "output_type": "stream",
     "text": [
      "BeautifulSoup\t Client\t clean\t client\t copy\t csv\t cwd\t dask\t dd\t \n",
      "dtypes\t gc\t html\t mailbox\t multiprocessing\t os\t pd\t re\t saxutilis\t \n",
      "time\t tqdm\t unescape\t unicodedata\t xml\t \n"
     ]
    }
   ],
   "source": [
    "%who\n",
    "del Client\n",
    "del client\n",
    "del dtypes"
   ]
  },
  {
   "cell_type": "code",
   "execution_count": 52,
   "metadata": {},
   "outputs": [
    {
     "name": "stdout",
     "output_type": "stream",
     "text": [
      "CPU times: user 1.34 s, sys: 108 ms, total: 1.45 s\n",
      "Wall time: 56.1 s\n"
     ]
    },
    {
     "data": {
      "text/plain": [
       "50887"
      ]
     },
     "execution_count": 52,
     "metadata": {},
     "output_type": "execute_result"
    }
   ],
   "source": [
    "# counting number of rows in dataframe\n",
    "%time podesta.index.count().compute(scheduler='processes')\n"
   ]
  },
  {
   "cell_type": "code",
   "execution_count": 135,
   "metadata": {
    "scrolled": false
   },
   "outputs": [
    {
     "data": {
      "text/plain": [
       "'Noneb\\'\\\\n\\\\nSent from my iPad\\\\n\\\\nBegin forwarded message:\\\\n\\\\nFrom: \"Knaebel, Sergio\" <SKnaebel@sandlerfoundation.org<mailto:SKnaebel@sandlerfoundation.org>>\\\\nDate: June 16, 2014 at 6:21:46 PM PDT\\\\nTo: \"Sandler, Herbert\" <hms@sandlerfoundation.org<mailto:hms@sandlerfoundation.org>>, \"Daetz, Steve\" <sdaetz@sandlerfoundation.org<mailto:sdaetz@sandlerfoundation.org>>\\\\nSubject: NYTimes: The True Cost of Hidden Money\\\\n\\\\n\\\\nhttp://nyti.ms/1kEeCfj\\\\n\\\\nNew research suggests that tax evasion deepens inequality.\\\\n\\\\n(by Picketty\\\\\\'s protege )\\\\n\\\\nSergio Knaebel\\\\n\\'b\\'<html>\\\\n<head>\\\\n<meta http-equiv=\"Content-Type\" content=\"text/html; charset=us-ascii\">\\\\n</head>\\\\n<body dir=\"auto\">\\\\n<div><br>\\\\n<br>\\\\nSent from my iPad</div>\\\\n<div><br>\\\\nBegin forwarded message:<br>\\\\n<br>\\\\n</div>\\\\n<blockquote type=\"cite\">\\\\n<div><b>From:</b> &quot;Knaebel, Sergio&quot; &lt;<a href=\"mailto:SKnaebel@sandlerfoundation.org\">SKnaebel@sandlerfoundation.org</a>&gt;<br>\\\\n<b>Date:</b> June 16, 2014 at 6:21:46 PM PDT<br>\\\\n<b>To:</b> &quot;Sandler, Herbert&quot; &lt;<a href=\"mailto:hms@sandlerfoundation.org\">hms@sandlerfoundation.org</a>&gt;, &quot;Daetz, Steve&quot; &lt;<a href=\"mailto:sdaetz@sandlerfoundation.org\">sdaetz@sandlerfoundation.org</a>&gt;<br>\\\\n<b>Subject:</b> <b>NYTimes: The True Cost of Hidden Money</b><br>\\\\n<br>\\\\n</div>\\\\n</blockquote>\\\\n<blockquote type=\"cite\">\\\\n<div><span></span><br>\\\\n<span><a href=\"http://nyti.ms/1kEeCfj\">http://nyti.ms/1kEeCfj</a></span><br>\\\\n<span></span><br>\\\\n<span>New research suggests that tax evasion deepens inequality.</span><br>\\\\n<span></span><br>\\\\n<span>(by Picketty\\\\\\'s protege )</span><br>\\\\n<span></span><br>\\\\n<span>Sergio Knaebel </span><br>\\\\n</div>\\\\n</blockquote>\\\\n</body>\\\\n</html>\\\\n\\''"
      ]
     },
     "execution_count": 135,
     "metadata": {},
     "output_type": "execute_result"
    }
   ],
   "source": [
    "# getting a sample email body to create text cleaning function\n",
    "podesta.head().msg_body[0:10][2]"
   ]
  },
  {
   "cell_type": "code",
   "execution_count": 305,
   "metadata": {},
   "outputs": [],
   "source": [
    "# deleting everything between \"<>\" html tags in the email body\n",
    "# removing html entities and normalizing text also tagging and lemmatizing text\n",
    "\n",
    "def get_wordnet_pos(word):\n",
    "    if word.startswith('J'):\n",
    "        return wn.ADJ\n",
    "    elif word.startswith('V'):\n",
    "        return wn.VERB\n",
    "    elif word.startswith('N'):\n",
    "        return wn.NOUN\n",
    "    elif word.startswith('R'):\n",
    "        return wn.ADV\n",
    "    else:\n",
    "        return wn.NOUN\n",
    "\n",
    "\n",
    "def clean(msg_content):\n",
    "    l=[]\n",
    "    msg_clean = re.sub(r'<(.*?)>', '', msg_content).replace('\\\\n', ' ').replace('None', '')\n",
    "    msg_clean = re.sub(\"[/\\\\\\:?\\\"]\", '', re.sub(r' +', ' ', unicodedata.normalize('NFKD', html.unescape(msg_clean))))\n",
    "    msg_clean = nltk.word_tokenize(msg_clean)\n",
    "    ptag = pt(msg_clean)\n",
    "    for word in ptag:\n",
    "        lem = wnl().lemmatize(word[0], get_wordnet_pos(word[1]))\n",
    "        if lem!=None or lem!='' or lem!=' ':\n",
    "            l.append(str(lem.lower()))\n",
    "        else:\n",
    "            pass\n",
    "    return ' '.join(w for w in l)"
   ]
  },
  {
   "cell_type": "code",
   "execution_count": 306,
   "metadata": {},
   "outputs": [
    {
     "data": {
      "text/plain": [
       "\"bjohn , sorry we do n't get to visit this morning . i teach once a semester for madeleine , and this be the morning , so i have to exit early . it be great that you be there for katie , but i 'm not surprise . having be the beneficiary of your support when i run for congress , i know that you 're always there for former colleague and old friend . the republicans seem to be move along their remarkable path , set up a clash between one of the least qualified presidential candidate in history with one of the most qualified . given the state of the country , it promise to be quite a battle . one that we have to win . all my best , ira ira shapiro ira shapiro global strategies , llc 1200 new hampshire avenue , nw suite 800 washington , dc 20036 office 202-419-3412 mobile 202-577-5789 www.shapiroglobal.com b ' john , sorry we didn ’ t get to visit this morning . i teach once a semester for madeleine , and this be the morning , so i have to exit early . it be great that you be there for katie , but i ’ m not surprise . having be the beneficiary of your support when i run for congress , i know that you ’ re always there for former colleague and old friend . the republicans seem to be move along their remarkable path , set up a clash between one of the least qualified presidential candidate in history with one of the most qualified . given the state of the country , it promise to be quite a battle . one that we have to win . all my best , ira ira shapiro ira shapiro global strategies , llc 1200 new hampshire avenue , nw suite 800 washington , dc 20036 office 202-419-3412 mobile 202-577-5789 www.shapiroglobal.com '\""
      ]
     },
     "execution_count": 306,
     "metadata": {},
     "output_type": "execute_result"
    }
   ],
   "source": [
    "clean(podesta.head().msg_body[1])"
   ]
  },
  {
   "cell_type": "code",
   "execution_count": 308,
   "metadata": {},
   "outputs": [
    {
     "name": "stdout",
     "output_type": "stream",
     "text": [
      "CPU times: user 7min 52s, sys: 3.46 s, total: 7min 56s\n",
      "Wall time: 8min 3s\n"
     ]
    },
    {
     "data": {
      "text/plain": [
       "\"bjohn , sorry we do n't get to visit this morning . i teach once a semester for madeleine , and this be the morning , so i have to exit early . it be great that you be there for katie , but i 'm not surprise . having be the beneficiary of your support when i run for congress , i know that you 're always there for former colleague and old friend . the republicans seem to be move along their remarkable path , set up a clash between one of the least qualified presidential candidate in history with one of the most qualified . given the state of the country , it promise to be quite a battle . one that we have to win . all my best , ira ira shapiro ira shapiro global strategies , llc 1200 new hampshire avenue , nw suite 800 washington , dc 20036 office 202-419-3412 mobile 202-577-5789 www.shapiroglobal.com b ' john , sorry we didn ’ t get to visit this morning . i teach once a semester for madeleine , and this be the morning , so i have to exit early . it be great that you be there for katie , but i ’ m not surprise . having be the beneficiary of your support when i run for congress , i know that you ’ re always there for former colleague and old friend . the republicans seem to be move along their remarkable path , set up a clash between one of the least qualified presidential candidate in history with one of the most qualified . given the state of the country , it promise to be quite a battle . one that we have to win . all my best , ira ira shapiro ira shapiro global strategies , llc 1200 new hampshire avenue , nw suite 800 washington , dc 20036 office 202-419-3412 mobile 202-577-5789 www.shapiroglobal.com '\""
      ]
     },
     "execution_count": 308,
     "metadata": {},
     "output_type": "execute_result"
    }
   ],
   "source": [
    "%time clean(podesta.head().msg_body[1])"
   ]
  },
  {
   "cell_type": "code",
   "execution_count": 82,
   "metadata": {},
   "outputs": [],
   "source": [
    "# runs 50% faster when scheduler is provided for compute\n",
    "# this is not used to parallelize the code and not loading the entire dataframe into memory, which apply does\n",
    "# %time clean = podesta.apply(lambda df: clean(df.msg_body), meta=pd.Series(dtype='object', name='clean_body'), axis=1)\n",
    "\n",
    "# clean_body = clean.compute(scheduler='processes')\n"
   ]
  },
  {
   "cell_type": "code",
   "execution_count": 307,
   "metadata": {},
   "outputs": [
    {
     "name": "stdout",
     "output_type": "stream",
     "text": [
      "CPU times: user 5.69 s, sys: 222 ms, total: 5.91 s\n",
      "Wall time: 5.96 s\n"
     ]
    },
    {
     "data": {
      "text/html": [
       "<div>\n",
       "<style scoped>\n",
       "    .dataframe tbody tr th:only-of-type {\n",
       "        vertical-align: middle;\n",
       "    }\n",
       "\n",
       "    .dataframe tbody tr th {\n",
       "        vertical-align: top;\n",
       "    }\n",
       "\n",
       "    .dataframe thead th {\n",
       "        text-align: right;\n",
       "    }\n",
       "</style>\n",
       "<table border=\"1\" class=\"dataframe\">\n",
       "  <thead>\n",
       "    <tr style=\"text-align: right;\">\n",
       "      <th></th>\n",
       "      <th>date</th>\n",
       "      <th>from</th>\n",
       "      <th>to</th>\n",
       "      <th>subject</th>\n",
       "      <th>originator_org</th>\n",
       "      <th>spam_header</th>\n",
       "      <th>msg_body</th>\n",
       "      <th>clean_body</th>\n",
       "    </tr>\n",
       "  </thead>\n",
       "  <tbody>\n",
       "    <tr>\n",
       "      <th>0</th>\n",
       "      <td>Fri, 3 Apr 2015 14:06:30 +0000</td>\n",
       "      <td>Tina Flournoy &lt;Tina@presidentclinton.com&gt;</td>\n",
       "      <td>John Podesta &lt;john.podesta@gmail.com&gt;</td>\n",
       "      <td>just talked to him</td>\n",
       "      <td>NaN</td>\n",
       "      <td>NaN</td>\n",
       "      <td>b'\\n\\nSC was the first thing he mentioned.\\nTo...</td>\n",
       "      <td>b ' sc be the first thing he mention . told hi...</td>\n",
       "    </tr>\n",
       "    <tr>\n",
       "      <th>1</th>\n",
       "      <td>Mon, 22 Feb 2016 23:00:30 +0000</td>\n",
       "      <td>Ira Shapiro &lt;ira@shapiroglobal.com&gt;</td>\n",
       "      <td>John Podesta &lt;john.podesta@gmail.com&gt;</td>\n",
       "      <td>today's fundraiser</td>\n",
       "      <td>shapiroglobal.com</td>\n",
       "      <td>NSPM</td>\n",
       "      <td>Noneb\"John,\\n\\nSorry we didn't get to visit th...</td>\n",
       "      <td>bjohn , sorry we do n't get to visit this morn...</td>\n",
       "    </tr>\n",
       "  </tbody>\n",
       "</table>\n",
       "</div>"
      ],
      "text/plain": [
       "                              date                                       from  \\\n",
       "0   Fri, 3 Apr 2015 14:06:30 +0000  Tina Flournoy <Tina@presidentclinton.com>   \n",
       "1  Mon, 22 Feb 2016 23:00:30 +0000        Ira Shapiro <ira@shapiroglobal.com>   \n",
       "\n",
       "                                      to             subject  \\\n",
       "0  John Podesta <john.podesta@gmail.com>  just talked to him   \n",
       "1  John Podesta <john.podesta@gmail.com>  today's fundraiser   \n",
       "\n",
       "      originator_org spam_header  \\\n",
       "0                NaN         NaN   \n",
       "1  shapiroglobal.com        NSPM   \n",
       "\n",
       "                                            msg_body  \\\n",
       "0  b'\\n\\nSC was the first thing he mentioned.\\nTo...   \n",
       "1  Noneb\"John,\\n\\nSorry we didn't get to visit th...   \n",
       "\n",
       "                                          clean_body  \n",
       "0  b ' sc be the first thing he mention . told hi...  \n",
       "1  bjohn , sorry we do n't get to visit this morn...  "
      ]
     },
     "execution_count": 307,
     "metadata": {},
     "output_type": "execute_result"
    }
   ],
   "source": [
    "%time podesta['clean_body'] = podesta.map_partitions(lambda df: df.msg_body.apply(clean), meta=pd.Series(dtype='object', name='clean_body'))\n",
    "\n",
    "podesta.head(2)"
   ]
  },
  {
   "cell_type": "code",
   "execution_count": null,
   "metadata": {},
   "outputs": [],
   "source": []
  },
  {
   "cell_type": "code",
   "execution_count": 61,
   "metadata": {},
   "outputs": [],
   "source": [
    "# podesta.loc[~podesta.spam_header.isna()].head()"
   ]
  },
  {
   "cell_type": "code",
   "execution_count": 84,
   "metadata": {},
   "outputs": [
    {
     "name": "stdout",
     "output_type": "stream",
     "text": [
      "BeautifulSoup\t clean\t clean_map\t copy\t csv\t cwd\t dd\t dtypes\t extract\t \n",
      "get\t html\t mailbox\t os\t pd\t podesta\t re\t time\t unicodedata\t \n",
      "\n"
     ]
    }
   ],
   "source": [
    "%who"
   ]
  },
  {
   "cell_type": "code",
   "execution_count": 86,
   "metadata": {},
   "outputs": [
    {
     "data": {
      "text/plain": [
       "183"
      ]
     },
     "execution_count": 86,
     "metadata": {},
     "output_type": "execute_result"
    }
   ],
   "source": [
    "import gc\n",
    "gc.collect()"
   ]
  }
 ],
 "metadata": {
  "kernelspec": {
   "display_name": "Python 3",
   "language": "python",
   "name": "python3"
  },
  "language_info": {
   "codemirror_mode": {
    "name": "ipython",
    "version": 3
   },
   "file_extension": ".py",
   "mimetype": "text/x-python",
   "name": "python",
   "nbconvert_exporter": "python",
   "pygments_lexer": "ipython3",
   "version": "3.5.6"
  }
 },
 "nbformat": 4,
 "nbformat_minor": 2
}
