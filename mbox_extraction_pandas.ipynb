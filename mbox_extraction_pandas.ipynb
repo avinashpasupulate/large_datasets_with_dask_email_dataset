{
 "cells": [
  {
   "cell_type": "code",
   "execution_count": 506,
   "metadata": {},
   "outputs": [],
   "source": [
    "# importing all packages that may be required\n",
    "import os\n",
    "#import gc\n",
    "import re\n",
    "import csv\n",
    "import warnings\n",
    "import html\n",
    "import copy\n",
    "from tqdm import tqdm_notebook\n",
    "import time\n",
    "import mailbox\n",
    "from nltk.corpus import stopwords \n",
    "import unicodedata\n",
    "import pandas as pd\n",
    "#import multiprocessing\n",
    "from bs4 import BeautifulSoup\n",
    "from dask import dataframe as dd\n",
    "from dask.multiprocessing import get\n",
    "import nltk\n",
    "import chardet\n",
    "# from dask.diagnostics import ProgressBar\n",
    "from nltk.stem import WordNetLemmatizer as wnl\n",
    "from nltk import pos_tag as pt\n",
    "from nltk.corpus import wordnet as wn"
   ]
  },
  {
   "cell_type": "code",
   "execution_count": 366,
   "metadata": {},
   "outputs": [],
   "source": [
    "cwd = os.getcwd()"
   ]
  },
  {
   "cell_type": "code",
   "execution_count": 367,
   "metadata": {},
   "outputs": [],
   "source": [
    "# importing mailbox\n",
    "mail_container = mailbox.mbox(cwd+'/raw_data/podesta-emails.mbox-2016-11-06')"
   ]
  },
  {
   "cell_type": "code",
   "execution_count": 368,
   "metadata": {},
   "outputs": [],
   "source": [
    "# making working copy\n",
    "mail_cp = copy.copy(mail_container)"
   ]
  },
  {
   "cell_type": "code",
   "execution_count": 460,
   "metadata": {},
   "outputs": [],
   "source": [
    "def clean(msg_content):\n",
    "    if msg_content!=None:\n",
    "        msg_clean = \"\".join([ch for ch in str(msg_content) if ord(ch)<= 128])\n",
    "        for r in ['\\\\n', '\\n', '\\r', '\\t', '\\\\t', 'None', 'none']: msg_clean = msg_clean.replace(r, ' ')\n",
    "        #msg_clean = re.sub(\"[/\\\\\\:?\\\"]\", '', re.sub(r' +', ' ', msg_clean))\n",
    "    return msg_clean"
   ]
  },
  {
   "cell_type": "code",
   "execution_count": 503,
   "metadata": {},
   "outputs": [],
   "source": [
    "#writes to csv\n",
    "def extract_csv(mail_cp):\n",
    "    try:\n",
    "        with open('podesta_mailbox.csv', 'w', encoding='utf-8', newline='') as file:\n",
    "            writer = csv.writer(file)\n",
    "            writer.writerow(['date', 'from', 'to', 'cc', 'subject', 'originator_org', 'spam_header', 'msg_body'])\n",
    "            for mail in mail_cp.itervalues():\n",
    "                if mail.is_multipart():\n",
    "                    for part in mail.walk():\n",
    "                        if part.get_content_type()=='text/plain':\n",
    "                            try:\n",
    "                                msg_content = part.get_payload(decode=True).decode(part.get_content_charset())\n",
    "                            except:\n",
    "                                msg_content = part.get_payload(decode=True)\n",
    "                else:\n",
    "                    if mail.get_content_type()=='text/plain':\n",
    "                        try:\n",
    "                            msg_content = mail.get_payload(decode=True).decode(mail.get_content_charset())\n",
    "                        except:\n",
    "                            msg_content = mail.get_payload(decode=True)\n",
    "                writer.writerow([mail['Date'], mail['From'], mail['To'], mail['Cc'],\n",
    "                                 mail['Subject'], mail['X-OriginatorOrg'],\n",
    "                                 mail['SpamDiagnosticMetadata'],clean(msg_content.lower())]) \n",
    "    except:\n",
    "        pass"
   ]
  },
  {
   "cell_type": "code",
   "execution_count": 504,
   "metadata": {},
   "outputs": [],
   "source": [
    "# writing to dataframe instead of csv because writing to csv causes line breaks and skipiing cells because of mail content\n",
    "def extract(mail_cp):\n",
    "    df = pd.DataFrame(columns=['date', 'from', 'to', 'cc', 'subject', 'originator_org', 'spam_header', 'msg_body'])\n",
    "    for mail in mail_cp.itervalues():\n",
    "        if mail.is_multipart():\n",
    "            for part in mail.walk():\n",
    "                if part.get_content_type()=='text/plain':\n",
    "                    try:\n",
    "                        msg_content = part.get_payload(decode=True).decode(part.get_content_charset())\n",
    "                    except:\n",
    "                        msg_content = part.get_payload(decode=True)\n",
    "        else:\n",
    "            if mail.get_content_type()=='text/plain':\n",
    "                try:\n",
    "                    msg_content = mail.get_payload(decode=True).decode(mail.get_content_charset())\n",
    "                except:\n",
    "                    msg_content = mail.get_payload(decode=True)\n",
    "        d = pd.DataFrame({'date': mail['Date'], 'from': mail['From'],\n",
    "                          'to': mail['To'], 'cc': mail['Cc'],'subject': mail['Subject'],\n",
    "                          'originator_org': mail['X-OriginatorOrg'],'spam_header': mail['SpamDiagnosticMetadata'],\n",
    "                          'msg_body': clean(msg_content.lower())}, index=[0])\n",
    "        df = pd.concat([df, d])\n",
    "    return df\n"
   ]
  },
  {
   "cell_type": "code",
   "execution_count": 505,
   "metadata": {
    "scrolled": false
   },
   "outputs": [
    {
     "name": "stderr",
     "output_type": "stream",
     "text": [
      "/Users/Avinash/anaconda3/lib/python3.5/site-packages/ipykernel_launcher.py:21: FutureWarning: Sorting because non-concatenation axis is not aligned. A future version\n",
      "of pandas will change to not sort by default.\n",
      "\n",
      "To accept the future behavior, pass 'sort=False'.\n",
      "\n",
      "To retain the current behavior and silence the warning, pass 'sort=True'.\n",
      "\n"
     ]
    },
    {
     "name": "stdout",
     "output_type": "stream",
     "text": [
      "CPU times: user 20min 25s, sys: 32.7 s, total: 20min 57s\n",
      "Wall time: 21min 16s\n"
     ]
    }
   ],
   "source": [
    "# running function and display time\n",
    "%time df = extract(mail_cp)\n",
    "# 15 mins - 9.18 gb"
   ]
  },
  {
   "cell_type": "code",
   "execution_count": 507,
   "metadata": {},
   "outputs": [
    {
     "data": {
      "text/html": [
       "<div>\n",
       "<style scoped>\n",
       "    .dataframe tbody tr th:only-of-type {\n",
       "        vertical-align: middle;\n",
       "    }\n",
       "\n",
       "    .dataframe tbody tr th {\n",
       "        vertical-align: top;\n",
       "    }\n",
       "\n",
       "    .dataframe thead th {\n",
       "        text-align: right;\n",
       "    }\n",
       "</style>\n",
       "<table border=\"1\" class=\"dataframe\">\n",
       "  <thead>\n",
       "    <tr style=\"text-align: right;\">\n",
       "      <th></th>\n",
       "      <th>cc</th>\n",
       "      <th>date</th>\n",
       "      <th>from</th>\n",
       "      <th>msg_body</th>\n",
       "      <th>originator_org</th>\n",
       "      <th>spam_header</th>\n",
       "      <th>subject</th>\n",
       "      <th>to</th>\n",
       "    </tr>\n",
       "  </thead>\n",
       "  <tbody>\n",
       "    <tr>\n",
       "      <th>0</th>\n",
       "      <td>None</td>\n",
       "      <td>Fri, 3 Apr 2015 14:06:30 +0000</td>\n",
       "      <td>Tina Flournoy &lt;Tina@presidentclinton.com&gt;</td>\n",
       "      <td>sc was the first thing he mentioned. told him to talk to you about greece</td>\n",
       "      <td>None</td>\n",
       "      <td>None</td>\n",
       "      <td>just talked to him</td>\n",
       "      <td>John Podesta &lt;john.podesta@gmail.com&gt;</td>\n",
       "    </tr>\n",
       "    <tr>\n",
       "      <th>0</th>\n",
       "      <td>None</td>\n",
       "      <td>Mon, 22 Feb 2016 23:00:30 +0000</td>\n",
       "      <td>Ira Shapiro &lt;ira@shapiroglobal.com&gt;</td>\n",
       "      <td>john,  sorry we didn't get to visit this morning.  i teach once a semester for madeleine, and this...</td>\n",
       "      <td>shapiroglobal.com</td>\n",
       "      <td>NSPM</td>\n",
       "      <td>today's fundraiser</td>\n",
       "      <td>John Podesta &lt;john.podesta@gmail.com&gt;</td>\n",
       "    </tr>\n",
       "    <tr>\n",
       "      <th>0</th>\n",
       "      <td>None</td>\n",
       "      <td>Tue, 17 Jun 2014 01:32:54 +0000</td>\n",
       "      <td>\"Sandler, Herbert\" &lt;hms@sandlerfoundation.org&gt;</td>\n",
       "      <td>sent from my ipad  begin forwarded message:  from: \"knaebel, sergio\" &lt;sknaebel@sandlerfoundation...</td>\n",
       "      <td>None</td>\n",
       "      <td>None</td>\n",
       "      <td>Fwd: NYTimes: The True Cost of Hidden Money</td>\n",
       "      <td>Heather Boushey &lt;hboushey@equitablegrowth.org&gt;,\\n John Podesta &lt;john.podesta@gmail.com&gt;</td>\n",
       "    </tr>\n",
       "    <tr>\n",
       "      <th>0</th>\n",
       "      <td>None</td>\n",
       "      <td>30 Oct 2015 16:50:11 -0400</td>\n",
       "      <td>Delta Air Lines &lt;acs.survey@delta.com&gt;</td>\n",
       "      <td>sent from my ipad  begin forwarded message:  from: \"knaebel, sergio\" &lt;sknaebel@sandlerfoundation...</td>\n",
       "      <td>None</td>\n",
       "      <td>None</td>\n",
       "      <td>Tell Us How We Did On Your Flight From ATL to IAD</td>\n",
       "      <td>john.podesta@gmail.com</td>\n",
       "    </tr>\n",
       "    <tr>\n",
       "      <th>0</th>\n",
       "      <td>None</td>\n",
       "      <td>Sat, 28 Jul 2012 09:00:19 -0500 (CDT)</td>\n",
       "      <td>\"Gene Karpinski, League of Conservation Voters\" &lt;feedback@lcv.org&gt;</td>\n",
       "      <td>dear john,  today marks 100 days until election day and i am pleased to update you on some of our ...</td>\n",
       "      <td>None</td>\n",
       "      <td>None</td>\n",
       "      <td>100 days out...</td>\n",
       "      <td>john.podesta@gmail.com</td>\n",
       "    </tr>\n",
       "  </tbody>\n",
       "</table>\n",
       "</div>"
      ],
      "text/plain": [
       "     cc                                   date  \\\n",
       "0  None         Fri, 3 Apr 2015 14:06:30 +0000   \n",
       "0  None        Mon, 22 Feb 2016 23:00:30 +0000   \n",
       "0  None        Tue, 17 Jun 2014 01:32:54 +0000   \n",
       "0  None             30 Oct 2015 16:50:11 -0400   \n",
       "0  None  Sat, 28 Jul 2012 09:00:19 -0500 (CDT)   \n",
       "\n",
       "                                                                 from  \\\n",
       "0                           Tina Flournoy <Tina@presidentclinton.com>   \n",
       "0                                 Ira Shapiro <ira@shapiroglobal.com>   \n",
       "0                      \"Sandler, Herbert\" <hms@sandlerfoundation.org>   \n",
       "0                              Delta Air Lines <acs.survey@delta.com>   \n",
       "0  \"Gene Karpinski, League of Conservation Voters\" <feedback@lcv.org>   \n",
       "\n",
       "                                                                                                msg_body  \\\n",
       "0                             sc was the first thing he mentioned. told him to talk to you about greece    \n",
       "0  john,  sorry we didn't get to visit this morning.  i teach once a semester for madeleine, and this...   \n",
       "0    sent from my ipad  begin forwarded message:  from: \"knaebel, sergio\" <sknaebel@sandlerfoundation...   \n",
       "0    sent from my ipad  begin forwarded message:  from: \"knaebel, sergio\" <sknaebel@sandlerfoundation...   \n",
       "0  dear john,  today marks 100 days until election day and i am pleased to update you on some of our ...   \n",
       "\n",
       "      originator_org spam_header  \\\n",
       "0               None        None   \n",
       "0  shapiroglobal.com        NSPM   \n",
       "0               None        None   \n",
       "0               None        None   \n",
       "0               None        None   \n",
       "\n",
       "                                             subject  \\\n",
       "0                                 just talked to him   \n",
       "0                                 today's fundraiser   \n",
       "0        Fwd: NYTimes: The True Cost of Hidden Money   \n",
       "0  Tell Us How We Did On Your Flight From ATL to IAD   \n",
       "0                                    100 days out...   \n",
       "\n",
       "                                                                                        to  \n",
       "0                                                    John Podesta <john.podesta@gmail.com>  \n",
       "0                                                    John Podesta <john.podesta@gmail.com>  \n",
       "0  Heather Boushey <hboushey@equitablegrowth.org>,\\n John Podesta <john.podesta@gmail.com>  \n",
       "0                                                                   john.podesta@gmail.com  \n",
       "0                                                                   john.podesta@gmail.com  "
      ]
     },
     "execution_count": 507,
     "metadata": {},
     "output_type": "execute_result"
    }
   ],
   "source": [
    "df.head()"
   ]
  },
  {
   "cell_type": "markdown",
   "metadata": {},
   "source": [
    "mail = mail_cp[8]\n",
    "if mail.is_multipart():\n",
    "    for part in mail.walk():\n",
    "        if part.get_content_type()=='text/plain':\n",
    "            try:\n",
    "                msg_content = part.get_payload(decode=True).decode(part.get_content_charset())\n",
    "            except:\n",
    "                msg_content = part.get_payload(decode=True)\n",
    "else:\n",
    "    if mail.get_content_type()=='text/plain':\n",
    "        try:\n",
    "            msg_content = mail.get_payload(decode=True).decode(mail.get_content_charset())\n",
    "        except:\n",
    "            msg_content = mail.get_payload(decode=True)"
   ]
  },
  {
   "cell_type": "markdown",
   "metadata": {},
   "source": [
    "clean(msg_content)"
   ]
  },
  {
   "cell_type": "markdown",
   "metadata": {},
   "source": [
    "msg_content.decode(chardet.detect(msg_content)['encoding'])"
   ]
  },
  {
   "cell_type": "code",
   "execution_count": 508,
   "metadata": {},
   "outputs": [],
   "source": [
    "# spam headers = https://docs.microsoft.com/en-us/office365/securitycompliance/anti-spam-message-headers"
   ]
  },
  {
   "cell_type": "code",
   "execution_count": 509,
   "metadata": {},
   "outputs": [],
   "source": [
    "# listing datatypes of dataframe and including in importing csv with 50Mb blocksize\n",
    "#dtypes={'from': 'object', 'to': 'object', 'subject': 'object', 'originator_org': 'object', 'spam_header': 'object','msg_body': 'object'}\n",
    "#podesta = pd.read_csv(cwd+'/podesta_mailbox.csv', dtype=dtypes, parse_dates=True)\n",
    "podesta = df"
   ]
  },
  {
   "cell_type": "code",
   "execution_count": 510,
   "metadata": {},
   "outputs": [
    {
     "data": {
      "text/html": [
       "<div>\n",
       "<style scoped>\n",
       "    .dataframe tbody tr th:only-of-type {\n",
       "        vertical-align: middle;\n",
       "    }\n",
       "\n",
       "    .dataframe tbody tr th {\n",
       "        vertical-align: top;\n",
       "    }\n",
       "\n",
       "    .dataframe thead th {\n",
       "        text-align: right;\n",
       "    }\n",
       "</style>\n",
       "<table border=\"1\" class=\"dataframe\">\n",
       "  <thead>\n",
       "    <tr style=\"text-align: right;\">\n",
       "      <th></th>\n",
       "      <th>cc</th>\n",
       "      <th>date</th>\n",
       "      <th>from</th>\n",
       "      <th>msg_body</th>\n",
       "      <th>originator_org</th>\n",
       "      <th>spam_header</th>\n",
       "      <th>subject</th>\n",
       "      <th>to</th>\n",
       "    </tr>\n",
       "  </thead>\n",
       "  <tbody>\n",
       "    <tr>\n",
       "      <th>0</th>\n",
       "      <td>None</td>\n",
       "      <td>Fri, 3 Apr 2015 14:06:30 +0000</td>\n",
       "      <td>Tina Flournoy &lt;Tina@presidentclinton.com&gt;</td>\n",
       "      <td>sc was the first thing he mentioned. told him to talk to you about greece</td>\n",
       "      <td>None</td>\n",
       "      <td>None</td>\n",
       "      <td>just talked to him</td>\n",
       "      <td>John Podesta &lt;john.podesta@gmail.com&gt;</td>\n",
       "    </tr>\n",
       "    <tr>\n",
       "      <th>0</th>\n",
       "      <td>None</td>\n",
       "      <td>Mon, 22 Feb 2016 23:00:30 +0000</td>\n",
       "      <td>Ira Shapiro &lt;ira@shapiroglobal.com&gt;</td>\n",
       "      <td>john,  sorry we didn't get to visit this morning.  i teach once a semester for madeleine, and this...</td>\n",
       "      <td>shapiroglobal.com</td>\n",
       "      <td>NSPM</td>\n",
       "      <td>today's fundraiser</td>\n",
       "      <td>John Podesta &lt;john.podesta@gmail.com&gt;</td>\n",
       "    </tr>\n",
       "  </tbody>\n",
       "</table>\n",
       "</div>"
      ],
      "text/plain": [
       "     cc                             date  \\\n",
       "0  None   Fri, 3 Apr 2015 14:06:30 +0000   \n",
       "0  None  Mon, 22 Feb 2016 23:00:30 +0000   \n",
       "\n",
       "                                        from  \\\n",
       "0  Tina Flournoy <Tina@presidentclinton.com>   \n",
       "0        Ira Shapiro <ira@shapiroglobal.com>   \n",
       "\n",
       "                                                                                                msg_body  \\\n",
       "0                             sc was the first thing he mentioned. told him to talk to you about greece    \n",
       "0  john,  sorry we didn't get to visit this morning.  i teach once a semester for madeleine, and this...   \n",
       "\n",
       "      originator_org spam_header             subject  \\\n",
       "0               None        None  just talked to him   \n",
       "0  shapiroglobal.com        NSPM  today's fundraiser   \n",
       "\n",
       "                                      to  \n",
       "0  John Podesta <john.podesta@gmail.com>  \n",
       "0  John Podesta <john.podesta@gmail.com>  "
      ]
     },
     "execution_count": 510,
     "metadata": {},
     "output_type": "execute_result"
    }
   ],
   "source": [
    "podesta.head(2)"
   ]
  },
  {
   "cell_type": "code",
   "execution_count": 511,
   "metadata": {},
   "outputs": [],
   "source": [
    "def mail_ext(x):\n",
    "    x = re.search(r'\\S+@\\S+', str(x).lower())\n",
    "    if x:\n",
    "        return (x.group().replace('>','').replace('<','').lower())\n",
    "\n",
    "def name_r(em):\n",
    "    em = str(em).lower()\n",
    "    t = re.sub(r'\\S+@\\S+', '', em)\n",
    "    if  t==None or t==\" \" or t==\"\":\n",
    "        return re.search(r'.*?(?=@)', em).group().replace('>','').replace('<','').replace('.',' ')\n",
    "    else:\n",
    "        return re.sub(r'\\S+@\\S+', '', em)    "
   ]
  },
  {
   "cell_type": "code",
   "execution_count": 512,
   "metadata": {
    "scrolled": true
   },
   "outputs": [],
   "source": [
    "podesta['to_email'] = podesta.to.apply(lambda x: mail_ext(x))\n",
    "podesta['from_email'] = podesta['from'].apply(lambda x: mail_ext(x))\n",
    "\n",
    "podesta['to_name'] = podesta.to.apply(lambda x: name_r(x))\n",
    "podesta['from_name'] = podesta['from'].apply(lambda x: name_r(x))\n"
   ]
  },
  {
   "cell_type": "code",
   "execution_count": 513,
   "metadata": {},
   "outputs": [
    {
     "data": {
      "text/html": [
       "<div>\n",
       "<style scoped>\n",
       "    .dataframe tbody tr th:only-of-type {\n",
       "        vertical-align: middle;\n",
       "    }\n",
       "\n",
       "    .dataframe tbody tr th {\n",
       "        vertical-align: top;\n",
       "    }\n",
       "\n",
       "    .dataframe thead th {\n",
       "        text-align: right;\n",
       "    }\n",
       "</style>\n",
       "<table border=\"1\" class=\"dataframe\">\n",
       "  <thead>\n",
       "    <tr style=\"text-align: right;\">\n",
       "      <th></th>\n",
       "      <th>cc</th>\n",
       "      <th>date</th>\n",
       "      <th>from</th>\n",
       "      <th>msg_body</th>\n",
       "      <th>originator_org</th>\n",
       "      <th>spam_header</th>\n",
       "      <th>subject</th>\n",
       "      <th>to</th>\n",
       "      <th>to_email</th>\n",
       "      <th>from_email</th>\n",
       "      <th>to_name</th>\n",
       "      <th>from_name</th>\n",
       "    </tr>\n",
       "  </thead>\n",
       "  <tbody>\n",
       "    <tr>\n",
       "      <th>0</th>\n",
       "      <td>None</td>\n",
       "      <td>Fri, 3 Apr 2015 14:06:30 +0000</td>\n",
       "      <td>Tina Flournoy &lt;Tina@presidentclinton.com&gt;</td>\n",
       "      <td>sc was the first thing he mentioned. told him to talk to you about greece</td>\n",
       "      <td>None</td>\n",
       "      <td>None</td>\n",
       "      <td>just talked to him</td>\n",
       "      <td>John Podesta &lt;john.podesta@gmail.com&gt;</td>\n",
       "      <td>john.podesta@gmail.com</td>\n",
       "      <td>tina@presidentclinton.com</td>\n",
       "      <td>john podesta</td>\n",
       "      <td>tina flournoy</td>\n",
       "    </tr>\n",
       "    <tr>\n",
       "      <th>0</th>\n",
       "      <td>None</td>\n",
       "      <td>Mon, 22 Feb 2016 23:00:30 +0000</td>\n",
       "      <td>Ira Shapiro &lt;ira@shapiroglobal.com&gt;</td>\n",
       "      <td>john,  sorry we didn't get to visit this morning.  i teach once a semester for madeleine, and this...</td>\n",
       "      <td>shapiroglobal.com</td>\n",
       "      <td>NSPM</td>\n",
       "      <td>today's fundraiser</td>\n",
       "      <td>John Podesta &lt;john.podesta@gmail.com&gt;</td>\n",
       "      <td>john.podesta@gmail.com</td>\n",
       "      <td>ira@shapiroglobal.com</td>\n",
       "      <td>john podesta</td>\n",
       "      <td>ira shapiro</td>\n",
       "    </tr>\n",
       "  </tbody>\n",
       "</table>\n",
       "</div>"
      ],
      "text/plain": [
       "     cc                             date  \\\n",
       "0  None   Fri, 3 Apr 2015 14:06:30 +0000   \n",
       "0  None  Mon, 22 Feb 2016 23:00:30 +0000   \n",
       "\n",
       "                                        from  \\\n",
       "0  Tina Flournoy <Tina@presidentclinton.com>   \n",
       "0        Ira Shapiro <ira@shapiroglobal.com>   \n",
       "\n",
       "                                                                                                msg_body  \\\n",
       "0                             sc was the first thing he mentioned. told him to talk to you about greece    \n",
       "0  john,  sorry we didn't get to visit this morning.  i teach once a semester for madeleine, and this...   \n",
       "\n",
       "      originator_org spam_header             subject  \\\n",
       "0               None        None  just talked to him   \n",
       "0  shapiroglobal.com        NSPM  today's fundraiser   \n",
       "\n",
       "                                      to                to_email  \\\n",
       "0  John Podesta <john.podesta@gmail.com>  john.podesta@gmail.com   \n",
       "0  John Podesta <john.podesta@gmail.com>  john.podesta@gmail.com   \n",
       "\n",
       "                  from_email        to_name       from_name  \n",
       "0  tina@presidentclinton.com  john podesta   tina flournoy   \n",
       "0      ira@shapiroglobal.com  john podesta     ira shapiro   "
      ]
     },
     "execution_count": 513,
     "metadata": {},
     "output_type": "execute_result"
    }
   ],
   "source": [
    "podesta.head(2)"
   ]
  },
  {
   "cell_type": "code",
   "execution_count": 514,
   "metadata": {},
   "outputs": [],
   "source": [
    "def get_wordnet_pos(word):\n",
    "    if word.startswith('J'):\n",
    "        return wn.ADJ\n",
    "    elif word.startswith('V'):\n",
    "        return wn.VERB\n",
    "    elif word.startswith('N'):\n",
    "        return wn.NOUN\n",
    "    elif word.startswith('R'):\n",
    "        return wn.ADV\n",
    "    else:\n",
    "        return wn.NOUN\n",
    "\n",
    "def stop_rem(msg_content):\n",
    "    l=[]\n",
    "    stop = nltk.word_tokenize(msg_content)\n",
    "    stop_words = set(stopwords.words('english'))\n",
    "    filtered = [w for w in stop if w not in stop_words]\n",
    "    ptag = pt(filtered)\n",
    "    for word in ptag:\n",
    "        lem = wnl().lemmatize(word[0], get_wordnet_pos(word[1]))\n",
    "        if lem!=None or lem!='' or lem!=' ':\n",
    "            l.append(str(lem.lower()))\n",
    "        else:\n",
    "            pass\n",
    "\n",
    "    filsent = ' '.join(w for w in l)\n",
    "    return filsent"
   ]
  },
  {
   "cell_type": "code",
   "execution_count": 515,
   "metadata": {},
   "outputs": [
    {
     "data": {
      "application/vnd.jupyter.widget-view+json": {
       "model_id": "4d5089b9677b4dd08137c4c529778fae",
       "version_major": 2,
       "version_minor": 0
      },
      "text/plain": [
       "HBox(children=(IntProgress(value=0, max=50887), HTML(value='')))"
      ]
     },
     "metadata": {},
     "output_type": "display_data"
    }
   ],
   "source": [
    "podesta['stprem_body']=podesta.msg_body.progress_apply(lambda x: stop_rem(x))"
   ]
  },
  {
   "cell_type": "code",
   "execution_count": 516,
   "metadata": {},
   "outputs": [
    {
     "data": {
      "text/html": [
       "<div>\n",
       "<style scoped>\n",
       "    .dataframe tbody tr th:only-of-type {\n",
       "        vertical-align: middle;\n",
       "    }\n",
       "\n",
       "    .dataframe tbody tr th {\n",
       "        vertical-align: top;\n",
       "    }\n",
       "\n",
       "    .dataframe thead th {\n",
       "        text-align: right;\n",
       "    }\n",
       "</style>\n",
       "<table border=\"1\" class=\"dataframe\">\n",
       "  <thead>\n",
       "    <tr style=\"text-align: right;\">\n",
       "      <th></th>\n",
       "      <th>msg_body</th>\n",
       "      <th>stprem_body</th>\n",
       "    </tr>\n",
       "  </thead>\n",
       "  <tbody>\n",
       "    <tr>\n",
       "      <th>0</th>\n",
       "      <td>sc was the first thing he mentioned. told him to talk to you about greece</td>\n",
       "      <td>sc first thing mention . told talk greece</td>\n",
       "    </tr>\n",
       "    <tr>\n",
       "      <th>0</th>\n",
       "      <td>john,  sorry we didn't get to visit this morning.  i teach once a semester for madeleine, and this...</td>\n",
       "      <td>john , sorry n't get visit morning . teach semester madeleine , morning , exit early . great katie...</td>\n",
       "    </tr>\n",
       "    <tr>\n",
       "      <th>0</th>\n",
       "      <td>sent from my ipad  begin forwarded message:  from: \"knaebel, sergio\" &lt;sknaebel@sandlerfoundation...</td>\n",
       "      <td>sent ipad begin forward message : : `` knaebel , sergio '' &lt; sknaebel @ sandlerfoundation.org &lt; ma...</td>\n",
       "    </tr>\n",
       "    <tr>\n",
       "      <th>0</th>\n",
       "      <td>sent from my ipad  begin forwarded message:  from: \"knaebel, sergio\" &lt;sknaebel@sandlerfoundation...</td>\n",
       "      <td>sent ipad begin forward message : : `` knaebel , sergio '' &lt; sknaebel @ sandlerfoundation.org &lt; ma...</td>\n",
       "    </tr>\n",
       "    <tr>\n",
       "      <th>0</th>\n",
       "      <td>dear john,  today marks 100 days until election day and i am pleased to update you on some of our ...</td>\n",
       "      <td>dear john , today mark 100 day election day please update recent efforts.thank continue partner cr...</td>\n",
       "    </tr>\n",
       "  </tbody>\n",
       "</table>\n",
       "</div>"
      ],
      "text/plain": [
       "                                                                                                msg_body  \\\n",
       "0                             sc was the first thing he mentioned. told him to talk to you about greece    \n",
       "0  john,  sorry we didn't get to visit this morning.  i teach once a semester for madeleine, and this...   \n",
       "0    sent from my ipad  begin forwarded message:  from: \"knaebel, sergio\" <sknaebel@sandlerfoundation...   \n",
       "0    sent from my ipad  begin forwarded message:  from: \"knaebel, sergio\" <sknaebel@sandlerfoundation...   \n",
       "0  dear john,  today marks 100 days until election day and i am pleased to update you on some of our ...   \n",
       "\n",
       "                                                                                             stprem_body  \n",
       "0                                                              sc first thing mention . told talk greece  \n",
       "0  john , sorry n't get visit morning . teach semester madeleine , morning , exit early . great katie...  \n",
       "0  sent ipad begin forward message : : `` knaebel , sergio '' < sknaebel @ sandlerfoundation.org < ma...  \n",
       "0  sent ipad begin forward message : : `` knaebel , sergio '' < sknaebel @ sandlerfoundation.org < ma...  \n",
       "0  dear john , today mark 100 day election day please update recent efforts.thank continue partner cr...  "
      ]
     },
     "execution_count": 516,
     "metadata": {},
     "output_type": "execute_result"
    }
   ],
   "source": [
    "pd.set_option(\"max_colwidth\",102)\n",
    "podesta.head()[['msg_body','stprem_body']]"
   ]
  },
  {
   "cell_type": "code",
   "execution_count": 517,
   "metadata": {},
   "outputs": [],
   "source": [
    "#podesta_dd = dd.from_pandas(podesta, npartitions=4)"
   ]
  },
  {
   "cell_type": "code",
   "execution_count": 518,
   "metadata": {},
   "outputs": [],
   "source": [
    "#podesta_dd"
   ]
  },
  {
   "cell_type": "code",
   "execution_count": 519,
   "metadata": {},
   "outputs": [],
   "source": [
    "#%time pod_lemat = podesta_dd.apply(lambda df: lemat(df.msg_body), meta=pd.Series(dtype='object', name='lemat_body'), axis=1)\n",
    "\n",
    "#pod_lemat.head(2).compute()\n",
    "\n",
    "#with ProgressBar():\n",
    "#    podesta['lemat_body'] = pod_lemat.compute(scheduler='processes')"
   ]
  },
  {
   "cell_type": "code",
   "execution_count": 520,
   "metadata": {},
   "outputs": [],
   "source": [
    "# podesta['lenat_body']=podesta_dd.map_partitions(lambda df: df.msg_body.apply(lemat), meta=pd.Series(dtype='object', name='lemat_body'))\n"
   ]
  },
  {
   "cell_type": "code",
   "execution_count": 521,
   "metadata": {},
   "outputs": [
    {
     "name": "stdout",
     "output_type": "stream",
     "text": [
      "BeautifulSoup\t ProgressBar\t chardet\t clean\t copy\t csv\t cwd\t dd\t df\t \n",
      "dtypes\t e\t em\t extract\t extract_c\t extract_csv\t get\t get_wordnet_pos\t html\t \n",
      "lemat\t mail\t mail_container\t mail_cp\t mail_ext\t mailbox\t msg_content\t name_r\t nltk\t \n",
      "os\t part\t pd\t pod_lemat\t podesta\t podesta_dd\t pt\t re\t stop_rem\t \n",
      "stopwords\t time\t tqdm\t tqdm_notebook\t unicodedata\t warnings\t wn\t wnl\t \n"
     ]
    }
   ],
   "source": [
    "% who"
   ]
  },
  {
   "cell_type": "code",
   "execution_count": 525,
   "metadata": {},
   "outputs": [
    {
     "name": "stdout",
     "output_type": "stream",
     "text": [
      "On branch master\n",
      "Your branch is up to date with 'origin/master'.\n",
      "\n",
      "Changes not staged for commit:\n",
      "\t\u001b[31mdeleted:    mbox_extraction.ipynb\u001b[m\n",
      "\t\u001b[31mmodified:   mbox_extraction_pandas.ipynb\u001b[m\n",
      "\n",
      "Untracked files:\n",
      "\t\u001b[31m.ipynb_checkpoints/\u001b[m\n",
      "\t\u001b[31memail_extract_211218.ipynb\u001b[m\n",
      "\t\u001b[31mpodesta_mailbox.csv\u001b[m\n",
      "\t\u001b[31mraw_data/\u001b[m\n",
      "\n",
      "no changes added to commit\n",
      "Everything up-to-date\n"
     ]
    }
   ],
   "source": [
    "!git commit -m 'replaced writing to csv with dataframe, to reduce errors'\n",
    "!git push -f origin master"
   ]
  },
  {
   "cell_type": "code",
   "execution_count": 526,
   "metadata": {},
   "outputs": [
    {
     "name": "stdout",
     "output_type": "stream",
     "text": [
      "Everything up-to-date\r\n"
     ]
    }
   ],
   "source": [
    "!git push origin master -f"
   ]
  }
 ],
 "metadata": {
  "kernelspec": {
   "display_name": "Python 3",
   "language": "python",
   "name": "python3"
  },
  "language_info": {
   "codemirror_mode": {
    "name": "ipython",
    "version": 3
   },
   "file_extension": ".py",
   "mimetype": "text/x-python",
   "name": "python",
   "nbconvert_exporter": "python",
   "pygments_lexer": "ipython3",
   "version": "3.5.6"
  }
 },
 "nbformat": 4,
 "nbformat_minor": 2
}
