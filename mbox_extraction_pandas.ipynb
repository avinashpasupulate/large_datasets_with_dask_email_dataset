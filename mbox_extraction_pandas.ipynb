{
 "cells": [
  {
   "cell_type": "markdown",
   "metadata": {},
   "source": [
    "<br>\n",
    "<div style=\"text-align:center\"> <h1> Processing and Analysis - Podesta (John podesta - US Politician) Emails </h1> </div>\n",
    "<br>\n",
    "<br>\n",
    "<div style=\"text-align:align\">\n",
    "Processing and analysing  email exports hosted by wikileaks retrieved from US politician John Podesta's gmail account, reportedly by russian hackers. The hacking seems to have been motivated to favor Trumps election as the president of the US. \n",
    "<br><br>\n",
    "John Podesta was the Hillary's campaign manager and the chief of staff for president Bill CLinton between 1998 and 2001\n",
    "</div>\n",
    "\n",
    "**Email Dataset Download:**<br>\n",
    "https://file.wikileaks.org/file/podesta-emails/\n",
    "\n",
    "\n",
    "**Wikileaks Description:**<br>\n",
    "https://wikileaks.org/podesta-emails/?q=delonge%7C%22tom+delany%22%7C%22blink182%22%7C%22blink+182%22%7CUFO&mfrom=&mto=&title=&notitle=&date_from=&date_to=&nofrom=&noto=&count=50&sort=6\n",
    "\n",
    "\n",
    "\n",
    "**Additional Useful Links:**<br>\n",
    "https://docs.microsoft.com/en-us/office365/securitycompliance/anti-spam-message-headers\n",
    "\n",
    "https://www.analyticsvidhya.com/blog/2018/02/the-different-methods-deal-text-data-predictive-python/\n",
    "\n",
    "https://towardsdatascience.com/topic-modeling-and-latent-dirichlet-allocation-in-python-9bf156893c24\n",
    "\n",
    "\n",
    "\n",
    "**Things to Clean up:**<br>\n",
    "* Try to make the code faster\n",
    "* Replace loops and unwanted code\n",
    "* cleanup variable names\n",
    "\n",
    "\n",
    "**Next Steps:**<br>\n",
    "* Create network graphs with contacts\n",
    "* Identify topics\n"
   ]
  },
  {
   "cell_type": "code",
   "execution_count": 121,
   "metadata": {},
   "outputs": [],
   "source": [
    "# importing all packages that may be required\n",
    "\n",
    "import os\n",
    "import re\n",
    "# import gc\n",
    "import csv\n",
    "# import html\n",
    "import copy\n",
    "import time\n",
    "import string\n",
    "import mailbox\n",
    "import warnings\n",
    "# import chardet\n",
    "import pandas as pd\n",
    "# import unicodedata\n",
    "# import multiprocessing\n",
    "from nltk import pos_tag as pt\n",
    "from nltk.corpus import stopwords\n",
    "# from dask import dataframe as dd\n",
    "from bs4 import BeautifulSoup as bs\n",
    "# from email.utils import parsedate\n",
    "from nltk.corpus import wordnet as wn\n",
    "# from dask.multiprocessing import get\n",
    "# from dask.diagnostics import ProgressBar\n",
    "from tqdm._tqdm_notebook import tqdm_notebook\n",
    "from nltk.stem import WordNetLemmatizer as wnl\n",
    "\n",
    "warnings.filterwarnings('ignore')"
   ]
  },
  {
   "cell_type": "code",
   "execution_count": 122,
   "metadata": {},
   "outputs": [],
   "source": [
    "cwd = os.getcwd()"
   ]
  },
  {
   "cell_type": "code",
   "execution_count": 123,
   "metadata": {},
   "outputs": [],
   "source": [
    "# importing mailbox\n",
    "mail_container = mailbox.mbox(cwd+'/raw_data/podesta-emails.mbox-2016-11-06')"
   ]
  },
  {
   "cell_type": "code",
   "execution_count": 124,
   "metadata": {},
   "outputs": [],
   "source": [
    "# making working copy of the mailbox\n",
    "mail_cp = copy.copy(mail_container)"
   ]
  },
  {
   "cell_type": "code",
   "execution_count": 125,
   "metadata": {},
   "outputs": [],
   "source": [
    "# cleans the input string , removes email addresses, links and unwanted characters\n",
    "def clean(msg_content):\n",
    "    if msg_content!=None:\n",
    "        msg_clean = ''.join([ch for ch in str(msg_content) if ord(ch)<= 128])\n",
    "        msg_clean = re.sub(r'\\w+:\\/{2}[\\d\\w-]+(\\.[\\d\\w-]+)*(?:(?:\\/[^\\s/]*))*', '', msg_clean)\n",
    "        msg_clean = re.sub(r'\\S+@\\S+','', msg_clean)\n",
    "        for r in ['\\\\n', '\\n', '\\r', '\\t', '\\\\t', 'None', 'none']: msg_clean = msg_clean.replace(r, ' ')\n",
    "        msg_clean = re.sub(r' +', ' ', re.sub(\"[/\\\\\\:?\\\"]\", '', msg_clean))\n",
    "        msg_clean = ' '.join(w.strip() for w in msg_clean.lstrip().split(\" \") if w!=\" \")\n",
    "    return msg_clean"
   ]
  },
  {
   "cell_type": "code",
   "execution_count": 126,
   "metadata": {},
   "outputs": [],
   "source": [
    "# extracts tags from mails and writes to csv by row - unused\n",
    "def extract_body_tocsv(mail_cp):\n",
    "    try:\n",
    "        with open('podesta_mailbox.csv', 'w', encoding='utf-8', newline='') as file:\n",
    "            writer = csv.writer(file)\n",
    "            writer.writerow(['date', 'from', 'to', 'cc', 'subject', 'originator_org', 'spam_header', 'msg_body'])\n",
    "            for mail in mail_cp.itervalues():\n",
    "                if mail.is_multipart():\n",
    "                    for part in mail.walk():\n",
    "                        if part.get_content_type()=='text/plain':\n",
    "                            try:\n",
    "                                msg_content = part.get_payload(decode=True).decode(part.get_content_charset())\n",
    "                            except:\n",
    "                                msg_content = part.get_payload(decode=True)\n",
    "                        elif part.get_content_type()=='text/html':\n",
    "                            msg_content = bs(mail_cp[3].get_payload(decode=True)).get_text()\n",
    "                            \n",
    "                else:\n",
    "                    if mail.get_content_type()=='text/plain':\n",
    "                        try:\n",
    "                            msg_content = mail.get_payload(decode=True).decode(mail.get_content_charset())\n",
    "                        except:\n",
    "                            msg_content = mail.get_payload(decode=True)\n",
    "                    elif part.get_content_type()=='text/html':\n",
    "                        msg_content = bs(mail_cp[3].get_payload(decode=True)).get_text()\n",
    "                writer.writerow([mail['Date'], mail['From'], mail['To'], mail['Cc'],\n",
    "                                 mail['Subject'], mail['X-OriginatorOrg'],\n",
    "                                 mail['SpamDiagnosticMetadata'],clean(msg_content.lower())]) \n",
    "    except:\n",
    "        pass"
   ]
  },
  {
   "cell_type": "code",
   "execution_count": 127,
   "metadata": {},
   "outputs": [],
   "source": [
    "# llist comprehension code\n",
    "# msg_content = [mail.get_payload(decode=True) if mail.get_content_type()=='text/plain' else None][0]\n",
    "# try:\n",
    "#     msg_content = msg_content.decode(part.get_content_charset())\n",
    "# except:\n",
    "#     pass"
   ]
  },
  {
   "cell_type": "markdown",
   "metadata": {},
   "source": [
    "\n",
    "Extract function extracts email tags and body from specific mails within the mailbox,\n",
    "* extracts emails from the mailbox\n",
    "* gets the 'date', 'from', 'to', 'cc', 'subject', 'originator_org', 'spam_header' tags\n",
    "* Text and Html content is extracted from the mail body, html content is parsed using bs4 and plain text is decoded is non null string\n",
    "<br><br>\n",
    "Clean Function cleans extracted body,\n",
    "* removes links, email addresses and other unwanted characters\n",
    "* uses regex and replace functions\n"
   ]
  },
  {
   "cell_type": "code",
   "execution_count": 128,
   "metadata": {},
   "outputs": [],
   "source": [
    "#writes to dataframe\n",
    "def extract_body_topandas(mail_cp):\n",
    "    df = pd.DataFrame(columns=['date', 'from', 'to', 'cc', 'subject', 'originator_org', 'spam_header', 'msg_body'])\n",
    "    for mail in mail_cp.itervalues():\n",
    "        if mail.is_multipart():\n",
    "            for part in mail.walk():\n",
    "                if part.get_content_type()=='text/plain':\n",
    "                    try:\n",
    "                        msg_content = part.get_payload(decode=True).decode(part.get_content_charset())\n",
    "                    except:\n",
    "                        msg_content = part.get_payload(decode=True)\n",
    "                elif part.get_content_type()=='text/html':\n",
    "                    msg_content = bs(mail_cp[3].get_payload(decode=True)).get_text()\n",
    "\n",
    "        else:\n",
    "            if mail.get_content_type()=='text/plain':\n",
    "                try:\n",
    "                    msg_content = mail.get_payload(decode=True).decode(mail.get_content_charset())\n",
    "                except:\n",
    "                    msg_content = mail.get_payload(decode=True)\n",
    "            elif part.get_content_type()=='text/html':\n",
    "                msg_content = bs(mail_cp[3].get_payload(decode=True)).get_text()\n",
    "        d = pd.DataFrame({'date': mail['Date'], 'from': mail['From'],\n",
    "                          'to': mail['To'], 'cc': mail['Cc'],'subject': mail['Subject'],\n",
    "                          'originator_org': mail['X-OriginatorOrg'],'spam_header': mail['SpamDiagnosticMetadata'],\n",
    "                          'msg_body': clean(msg_content.lower())}, index=[0])\n",
    "        df = pd.concat([df, d])\n",
    "    return df"
   ]
  },
  {
   "cell_type": "code",
   "execution_count": 129,
   "metadata": {
    "scrolled": false
   },
   "outputs": [
    {
     "name": "stdout",
     "output_type": "stream",
     "text": [
      "CPU times: user 25min 14s, sys: 1min 18s, total: 26min 33s\n",
      "Wall time: 27min 36s\n"
     ]
    }
   ],
   "source": [
    "# running function and display time\n",
    "%time podesta_df = extract_body_topandas(mail_cp)\n",
    "# 25 mins"
   ]
  },
  {
   "cell_type": "code",
   "execution_count": 130,
   "metadata": {},
   "outputs": [],
   "source": [
    "#checking is number of emails matches with extracted, it may not match in some cases depending on email content\n",
    "len(mail_cp) == len(podesta_df)\n",
    "del mail_cp\n",
    "del mail_container"
   ]
  },
  {
   "cell_type": "code",
   "execution_count": 131,
   "metadata": {},
   "outputs": [
    {
     "data": {
      "text/html": [
       "<div>\n",
       "<style scoped>\n",
       "    .dataframe tbody tr th:only-of-type {\n",
       "        vertical-align: middle;\n",
       "    }\n",
       "\n",
       "    .dataframe tbody tr th {\n",
       "        vertical-align: top;\n",
       "    }\n",
       "\n",
       "    .dataframe thead th {\n",
       "        text-align: right;\n",
       "    }\n",
       "</style>\n",
       "<table border=\"1\" class=\"dataframe\">\n",
       "  <thead>\n",
       "    <tr style=\"text-align: right;\">\n",
       "      <th></th>\n",
       "      <th>cc</th>\n",
       "      <th>date</th>\n",
       "      <th>from</th>\n",
       "      <th>msg_body</th>\n",
       "      <th>originator_org</th>\n",
       "      <th>spam_header</th>\n",
       "      <th>subject</th>\n",
       "      <th>to</th>\n",
       "    </tr>\n",
       "  </thead>\n",
       "  <tbody>\n",
       "    <tr>\n",
       "      <th>0</th>\n",
       "      <td>None</td>\n",
       "      <td>Fri, 3 Apr 2015 14:06:30 +0000</td>\n",
       "      <td>Tina Flournoy &lt;Tina@presidentclinton.com&gt;</td>\n",
       "      <td>sc was the first thing he mentioned. told him to talk to you about greece</td>\n",
       "      <td>None</td>\n",
       "      <td>None</td>\n",
       "      <td>just talked to him</td>\n",
       "      <td>John Podesta &lt;john.podesta@gmail.com&gt;</td>\n",
       "    </tr>\n",
       "    <tr>\n",
       "      <th>0</th>\n",
       "      <td>None</td>\n",
       "      <td>Mon, 22 Feb 2016 23:00:30 +0000</td>\n",
       "      <td>Ira Shapiro &lt;ira@shapiroglobal.com&gt;</td>\n",
       "      <td>dear john, it was a pleasure serving you on your recent flight from atlanta (atl) to washington (i...</td>\n",
       "      <td>shapiroglobal.com</td>\n",
       "      <td>NSPM</td>\n",
       "      <td>today's fundraiser</td>\n",
       "      <td>John Podesta &lt;john.podesta@gmail.com&gt;</td>\n",
       "    </tr>\n",
       "  </tbody>\n",
       "</table>\n",
       "</div>"
      ],
      "text/plain": [
       "     cc                             date  \\\n",
       "0  None   Fri, 3 Apr 2015 14:06:30 +0000   \n",
       "0  None  Mon, 22 Feb 2016 23:00:30 +0000   \n",
       "\n",
       "                                        from  \\\n",
       "0  Tina Flournoy <Tina@presidentclinton.com>   \n",
       "0        Ira Shapiro <ira@shapiroglobal.com>   \n",
       "\n",
       "                                                                                                msg_body  \\\n",
       "0                             sc was the first thing he mentioned. told him to talk to you about greece    \n",
       "0  dear john, it was a pleasure serving you on your recent flight from atlanta (atl) to washington (i...   \n",
       "\n",
       "      originator_org spam_header             subject  \\\n",
       "0               None        None  just talked to him   \n",
       "0  shapiroglobal.com        NSPM  today's fundraiser   \n",
       "\n",
       "                                      to  \n",
       "0  John Podesta <john.podesta@gmail.com>  \n",
       "0  John Podesta <john.podesta@gmail.com>  "
      ]
     },
     "execution_count": 131,
     "metadata": {},
     "output_type": "execute_result"
    }
   ],
   "source": [
    "podesta_df.head(2)"
   ]
  },
  {
   "cell_type": "markdown",
   "metadata": {},
   "source": [
    "The extracted text will be cleaned with the below functions;\n",
    "\n",
    "* mail_extract - extracts email address and removes unwanted characters\n",
    "* name_extract - extracts names from emails"
   ]
  },
  {
   "cell_type": "code",
   "execution_count": 132,
   "metadata": {},
   "outputs": [],
   "source": [
    "def mail_extract(x):\n",
    "    x = re.search(r'\\S+@\\S+', str(x).lower())\n",
    "    if x:\n",
    "        return x.group().replace('>','').replace('<','').lower()\n",
    "\n",
    "def name_extract(y):\n",
    "    y = str(y).lower()\n",
    "    erem = re.sub(r'\\S+@\\S+', '', y)\n",
    "    if  erem==None or erem==\" \" or erem==\"\":\n",
    "        return re.search(r'.*?(?=@)', y).group().replace('>', '').replace('<', '').replace('.', ' ')\n",
    "    else:\n",
    "        return [clean(erem) if clean(erem)!='' else (re.sub(r'<(.*?)>', '', y).replace('\\n', ''))][0]"
   ]
  },
  {
   "cell_type": "code",
   "execution_count": 133,
   "metadata": {
    "scrolled": true
   },
   "outputs": [],
   "source": [
    "podesta_df['to_email'] = podesta_df['to'].apply(lambda x: mail_extract(x))\n",
    "podesta_df['from_email'] = podesta_df['from'].apply(lambda x: mail_extract(x))\n",
    "\n",
    "podesta_df['to_name'] = podesta_df['to'].apply(lambda x: name_extract(x))\n",
    "podesta_df['from_name'] = podesta_df['from'].apply(lambda x: name_extract(x))\n"
   ]
  },
  {
   "cell_type": "markdown",
   "metadata": {},
   "source": [
    "Extracting dates from the column with mixed dateformats and parsing the dates"
   ]
  },
  {
   "cell_type": "code",
   "execution_count": 134,
   "metadata": {},
   "outputs": [
    {
     "name": "stdout",
     "output_type": "stream",
     "text": [
      "2.801089866956075\n"
     ]
    }
   ],
   "source": [
    "start = time.time()\n",
    "podesta_df['conv_date'] = ''\n",
    "for x in range(len(podesta_df['date'])):\n",
    "    try:\n",
    "        podesta_df['conv_date'].iloc[x] = re.search(r'\\d{1,2}(.*?)\\d{2,4}(.*?)[0-9]{2}:[0-9]{2}',podesta_df['date'].iloc[x]).group()\n",
    "    except:\n",
    "        podesta_df['conv_date'].iloc[x] = None\n",
    "podesta_df['conv_date'] = pd.to_datetime(podesta_df['conv_date'])\n",
    "del x\n",
    "print((time.time()-start)/60)\n",
    "del start"
   ]
  },
  {
   "cell_type": "code",
   "execution_count": 135,
   "metadata": {},
   "outputs": [
    {
     "data": {
      "text/html": [
       "<div>\n",
       "<style scoped>\n",
       "    .dataframe tbody tr th:only-of-type {\n",
       "        vertical-align: middle;\n",
       "    }\n",
       "\n",
       "    .dataframe tbody tr th {\n",
       "        vertical-align: top;\n",
       "    }\n",
       "\n",
       "    .dataframe thead th {\n",
       "        text-align: right;\n",
       "    }\n",
       "</style>\n",
       "<table border=\"1\" class=\"dataframe\">\n",
       "  <thead>\n",
       "    <tr style=\"text-align: right;\">\n",
       "      <th></th>\n",
       "      <th>cc</th>\n",
       "      <th>date</th>\n",
       "      <th>from</th>\n",
       "      <th>msg_body</th>\n",
       "      <th>originator_org</th>\n",
       "      <th>spam_header</th>\n",
       "      <th>subject</th>\n",
       "      <th>to</th>\n",
       "      <th>to_email</th>\n",
       "      <th>from_email</th>\n",
       "      <th>to_name</th>\n",
       "      <th>from_name</th>\n",
       "      <th>conv_date</th>\n",
       "    </tr>\n",
       "  </thead>\n",
       "  <tbody>\n",
       "    <tr>\n",
       "      <th>0</th>\n",
       "      <td>None</td>\n",
       "      <td>Fri, 3 Apr 2015 14:06:30 +0000</td>\n",
       "      <td>Tina Flournoy &lt;Tina@presidentclinton.com&gt;</td>\n",
       "      <td>sc was the first thing he mentioned. told him to talk to you about greece</td>\n",
       "      <td>None</td>\n",
       "      <td>None</td>\n",
       "      <td>just talked to him</td>\n",
       "      <td>John Podesta &lt;john.podesta@gmail.com&gt;</td>\n",
       "      <td>john.podesta@gmail.com</td>\n",
       "      <td>tina@presidentclinton.com</td>\n",
       "      <td>john podesta</td>\n",
       "      <td>tina flournoy</td>\n",
       "      <td>2015-04-03 14:06:00</td>\n",
       "    </tr>\n",
       "    <tr>\n",
       "      <th>0</th>\n",
       "      <td>None</td>\n",
       "      <td>Mon, 22 Feb 2016 23:00:30 +0000</td>\n",
       "      <td>Ira Shapiro &lt;ira@shapiroglobal.com&gt;</td>\n",
       "      <td>dear john, it was a pleasure serving you on your recent flight from atlanta (atl) to washington (i...</td>\n",
       "      <td>shapiroglobal.com</td>\n",
       "      <td>NSPM</td>\n",
       "      <td>today's fundraiser</td>\n",
       "      <td>John Podesta &lt;john.podesta@gmail.com&gt;</td>\n",
       "      <td>john.podesta@gmail.com</td>\n",
       "      <td>ira@shapiroglobal.com</td>\n",
       "      <td>john podesta</td>\n",
       "      <td>ira shapiro</td>\n",
       "      <td>2016-02-22 23:00:00</td>\n",
       "    </tr>\n",
       "  </tbody>\n",
       "</table>\n",
       "</div>"
      ],
      "text/plain": [
       "     cc                             date  \\\n",
       "0  None   Fri, 3 Apr 2015 14:06:30 +0000   \n",
       "0  None  Mon, 22 Feb 2016 23:00:30 +0000   \n",
       "\n",
       "                                        from  \\\n",
       "0  Tina Flournoy <Tina@presidentclinton.com>   \n",
       "0        Ira Shapiro <ira@shapiroglobal.com>   \n",
       "\n",
       "                                                                                                msg_body  \\\n",
       "0                             sc was the first thing he mentioned. told him to talk to you about greece    \n",
       "0  dear john, it was a pleasure serving you on your recent flight from atlanta (atl) to washington (i...   \n",
       "\n",
       "      originator_org spam_header             subject  \\\n",
       "0               None        None  just talked to him   \n",
       "0  shapiroglobal.com        NSPM  today's fundraiser   \n",
       "\n",
       "                                      to                to_email  \\\n",
       "0  John Podesta <john.podesta@gmail.com>  john.podesta@gmail.com   \n",
       "0  John Podesta <john.podesta@gmail.com>  john.podesta@gmail.com   \n",
       "\n",
       "                  from_email        to_name       from_name  \\\n",
       "0  tina@presidentclinton.com  john podesta   tina flournoy    \n",
       "0      ira@shapiroglobal.com  john podesta     ira shapiro    \n",
       "\n",
       "            conv_date  \n",
       "0 2015-04-03 14:06:00  \n",
       "0 2016-02-22 23:00:00  "
      ]
     },
     "execution_count": 135,
     "metadata": {},
     "output_type": "execute_result"
    }
   ],
   "source": [
    "podesta_df.head(2)"
   ]
  },
  {
   "cell_type": "markdown",
   "metadata": {},
   "source": [
    "The extracted and cleaned text body is processed through the below stages,\n",
    "* Tokenizing by whitespaces\n",
    "* Removing stop words\n",
    "* Tagging Parts of Speech\n",
    "* Lemmatizing words (Stemmer is faster but less accurate)\n",
    "* Removing punctuations\n",
    "* Removing numbers\n",
    "* Converting all text to lower case\n",
    "\n",
    "Information maybe considered in the later stages of analysis"
   ]
  },
  {
   "cell_type": "code",
   "execution_count": 136,
   "metadata": {},
   "outputs": [],
   "source": [
    "def get_wordnet_pos(word):\n",
    "    if word.startswith('J'):\n",
    "        return wn.ADJ\n",
    "    elif word.startswith('V'):\n",
    "        return wn.VERB\n",
    "    elif word.startswith('N'):\n",
    "        return wn.NOUN\n",
    "    elif word.startswith('R'):\n",
    "        return wn.ADV\n",
    "    else:\n",
    "        return wn.NOUN\n",
    "\n",
    "def txt_processing(msg_content):\n",
    "    l=[]\n",
    "    stop = msg_content.split()\n",
    "    stop_words = set(stopwords.words('english'))\n",
    "    filtered = [w for w in stop if w not in stop_words]\n",
    "    ptag = pt(filtered)\n",
    "    for word in ptag:\n",
    "        lem = wnl().lemmatize(word[0], get_wordnet_pos(word[1]))\n",
    "        if lem!=None or lem!='' or lem!=' ':\n",
    "            l.append(str(lem.lower()))\n",
    "        else:\n",
    "            pass\n",
    "    filsent = ' '.join(w for w in l)\n",
    "    punc_rem = ''.join(w for w in [f for f in filsent if f not in string.punctuation]).lower()\n",
    "    return re.sub(\"\\d+\",'',punc_rem)"
   ]
  },
  {
   "cell_type": "markdown",
   "metadata": {},
   "source": [
    "**Notes:** <br>\n",
    "\n",
    "* Spell check can be done on the email body, but this may cause more errors than corrections\n",
    "* Splitting on whitespaces with s.split() instead of using word_tokenizer increases speed by nearly 75% for processing "
   ]
  },
  {
   "cell_type": "code",
   "execution_count": 137,
   "metadata": {},
   "outputs": [
    {
     "data": {
      "application/vnd.jupyter.widget-view+json": {
       "model_id": "0d82d9f4e3c745109e3b1e6bde0c7f21",
       "version_major": 2,
       "version_minor": 0
      },
      "text/plain": [
       "HBox(children=(IntProgress(value=0, max=50887), HTML(value='')))"
      ]
     },
     "metadata": {},
     "output_type": "display_data"
    },
    {
     "name": "stdout",
     "output_type": "stream",
     "text": [
      "\n"
     ]
    }
   ],
   "source": [
    "# text processing takes about 15 minutes\n",
    "tqdm_notebook.pandas()\n",
    "podesta_df['stprem_body']=podesta_df['msg_body'].progress_apply(lambda x: txt_processing(x))"
   ]
  },
  {
   "cell_type": "code",
   "execution_count": 138,
   "metadata": {},
   "outputs": [
    {
     "data": {
      "text/html": [
       "<div>\n",
       "<style scoped>\n",
       "    .dataframe tbody tr th:only-of-type {\n",
       "        vertical-align: middle;\n",
       "    }\n",
       "\n",
       "    .dataframe tbody tr th {\n",
       "        vertical-align: top;\n",
       "    }\n",
       "\n",
       "    .dataframe thead th {\n",
       "        text-align: right;\n",
       "    }\n",
       "</style>\n",
       "<table border=\"1\" class=\"dataframe\">\n",
       "  <thead>\n",
       "    <tr style=\"text-align: right;\">\n",
       "      <th></th>\n",
       "      <th>cc</th>\n",
       "      <th>date</th>\n",
       "      <th>from</th>\n",
       "      <th>msg_body</th>\n",
       "      <th>originator_org</th>\n",
       "      <th>spam_header</th>\n",
       "      <th>subject</th>\n",
       "      <th>to</th>\n",
       "      <th>to_email</th>\n",
       "      <th>from_email</th>\n",
       "      <th>to_name</th>\n",
       "      <th>from_name</th>\n",
       "      <th>conv_date</th>\n",
       "      <th>stprem_body</th>\n",
       "    </tr>\n",
       "  </thead>\n",
       "  <tbody>\n",
       "    <tr>\n",
       "      <th>0</th>\n",
       "      <td>None</td>\n",
       "      <td>Fri, 3 Apr 2015 14:06:30 +0000</td>\n",
       "      <td>Tina Flournoy &lt;Tina@presidentclinton.com&gt;</td>\n",
       "      <td>sc was the first thing he mentioned. told him to talk to you about greece</td>\n",
       "      <td>None</td>\n",
       "      <td>None</td>\n",
       "      <td>just talked to him</td>\n",
       "      <td>John Podesta &lt;john.podesta@gmail.com&gt;</td>\n",
       "      <td>john.podesta@gmail.com</td>\n",
       "      <td>tina@presidentclinton.com</td>\n",
       "      <td>john podesta</td>\n",
       "      <td>tina flournoy</td>\n",
       "      <td>2015-04-03 14:06:00</td>\n",
       "      <td>sc first thing mentioned tell talk greece</td>\n",
       "    </tr>\n",
       "    <tr>\n",
       "      <th>0</th>\n",
       "      <td>None</td>\n",
       "      <td>Mon, 22 Feb 2016 23:00:30 +0000</td>\n",
       "      <td>Ira Shapiro &lt;ira@shapiroglobal.com&gt;</td>\n",
       "      <td>dear john, it was a pleasure serving you on your recent flight from atlanta (atl) to washington (i...</td>\n",
       "      <td>shapiroglobal.com</td>\n",
       "      <td>NSPM</td>\n",
       "      <td>today's fundraiser</td>\n",
       "      <td>John Podesta &lt;john.podesta@gmail.com&gt;</td>\n",
       "      <td>john.podesta@gmail.com</td>\n",
       "      <td>ira@shapiroglobal.com</td>\n",
       "      <td>john podesta</td>\n",
       "      <td>ira shapiro</td>\n",
       "      <td>2016-02-22 23:00:00</td>\n",
       "      <td>dear john pleasure serve recent flight atlanta atl washington iad october   know choice travel app...</td>\n",
       "    </tr>\n",
       "    <tr>\n",
       "      <th>0</th>\n",
       "      <td>None</td>\n",
       "      <td>Tue, 17 Jun 2014 01:32:54 +0000</td>\n",
       "      <td>\"Sandler, Herbert\" &lt;hms@sandlerfoundation.org&gt;</td>\n",
       "      <td>dear john, it was a pleasure serving you on your recent flight from atlanta (atl) to washington (i...</td>\n",
       "      <td>None</td>\n",
       "      <td>None</td>\n",
       "      <td>Fwd: NYTimes: The True Cost of Hidden Money</td>\n",
       "      <td>Heather Boushey &lt;hboushey@equitablegrowth.org&gt;,\\n John Podesta &lt;john.podesta@gmail.com&gt;</td>\n",
       "      <td>hboushey@equitablegrowth.org,</td>\n",
       "      <td>hms@sandlerfoundation.org</td>\n",
       "      <td>heather boushey john podesta</td>\n",
       "      <td>sandler, herbert</td>\n",
       "      <td>2014-06-17 01:32:00</td>\n",
       "      <td>dear john pleasure serve recent flight atlanta atl washington iad october   know choice travel app...</td>\n",
       "    </tr>\n",
       "  </tbody>\n",
       "</table>\n",
       "</div>"
      ],
      "text/plain": [
       "     cc                             date  \\\n",
       "0  None   Fri, 3 Apr 2015 14:06:30 +0000   \n",
       "0  None  Mon, 22 Feb 2016 23:00:30 +0000   \n",
       "0  None  Tue, 17 Jun 2014 01:32:54 +0000   \n",
       "\n",
       "                                             from  \\\n",
       "0       Tina Flournoy <Tina@presidentclinton.com>   \n",
       "0             Ira Shapiro <ira@shapiroglobal.com>   \n",
       "0  \"Sandler, Herbert\" <hms@sandlerfoundation.org>   \n",
       "\n",
       "                                                                                                msg_body  \\\n",
       "0                             sc was the first thing he mentioned. told him to talk to you about greece    \n",
       "0  dear john, it was a pleasure serving you on your recent flight from atlanta (atl) to washington (i...   \n",
       "0  dear john, it was a pleasure serving you on your recent flight from atlanta (atl) to washington (i...   \n",
       "\n",
       "      originator_org spam_header                                      subject  \\\n",
       "0               None        None                           just talked to him   \n",
       "0  shapiroglobal.com        NSPM                           today's fundraiser   \n",
       "0               None        None  Fwd: NYTimes: The True Cost of Hidden Money   \n",
       "\n",
       "                                                                                        to  \\\n",
       "0                                                    John Podesta <john.podesta@gmail.com>   \n",
       "0                                                    John Podesta <john.podesta@gmail.com>   \n",
       "0  Heather Boushey <hboushey@equitablegrowth.org>,\\n John Podesta <john.podesta@gmail.com>   \n",
       "\n",
       "                        to_email                 from_email  \\\n",
       "0         john.podesta@gmail.com  tina@presidentclinton.com   \n",
       "0         john.podesta@gmail.com      ira@shapiroglobal.com   \n",
       "0  hboushey@equitablegrowth.org,  hms@sandlerfoundation.org   \n",
       "\n",
       "                         to_name          from_name           conv_date  \\\n",
       "0                  john podesta      tina flournoy  2015-04-03 14:06:00   \n",
       "0                  john podesta        ira shapiro  2016-02-22 23:00:00   \n",
       "0  heather boushey john podesta   sandler, herbert  2014-06-17 01:32:00   \n",
       "\n",
       "                                                                                             stprem_body  \n",
       "0                                                              sc first thing mentioned tell talk greece  \n",
       "0  dear john pleasure serve recent flight atlanta atl washington iad october   know choice travel app...  \n",
       "0  dear john pleasure serve recent flight atlanta atl washington iad october   know choice travel app...  "
      ]
     },
     "execution_count": 138,
     "metadata": {},
     "output_type": "execute_result"
    }
   ],
   "source": [
    "pd.set_option(\"max_colwidth\",102)\n",
    "podesta_df.head(3)"
   ]
  },
  {
   "cell_type": "code",
   "execution_count": 139,
   "metadata": {},
   "outputs": [],
   "source": [
    "# Dask alternative code which is not used now\n",
    "# used when all body was extracted with formatting, html, style etc\n",
    "\n",
    "#podesta_dd = dd.from_pandas(podesta, npartitions=4)\n",
    "\n",
    "#%time pod_lemat = podesta_dd.apply(lambda df: lemat(df.msg_body), meta=pd.Series(dtype='object', name='lemat_body'), axis=1)\n",
    "\n",
    "#pod_lemat.head(2).compute()\n",
    "\n",
    "#with ProgressBar():\n",
    "#    podesta['lemat_body'] = pod_lemat.compute(scheduler='processes')\n",
    "# podesta['lenat_body']=podesta_dd.map_partitions(lambda df: df.msg_body.apply(lemat), meta=pd.Series(dtype='object', name='lemat_body'))"
   ]
  },
  {
   "cell_type": "code",
   "execution_count": 140,
   "metadata": {},
   "outputs": [
    {
     "name": "stdout",
     "output_type": "stream",
     "text": [
      "bs\t clean\t copy\t csv\t cwd\t dat\t dt\t extract_body_tocsv\t extract_body_topandas\t \n",
      "get_wordnet_pos\t html\t mail_extract\t mailbox\t name_extract\t nltk\t os\t parsedate\t pd\t \n",
      "podesta_df\t podesta_subset\t pt\t re\t stopwords\t string\t time\t tqdm_notebook\t txt_processing\t \n",
      "warnings\t wn\t wnl\t \n"
     ]
    }
   ],
   "source": [
    "% who"
   ]
  },
  {
   "cell_type": "code",
   "execution_count": 141,
   "metadata": {},
   "outputs": [],
   "source": [
    "podesta_subset = podesta_df[['cc', 'originator_org', 'spam_header','to_email', 'from_email', \n",
    "                             'to_name', 'from_name', 'conv_date', 'stprem_body']]\n",
    "\n",
    "# excluding the email without the date\n"
   ]
  },
  {
   "cell_type": "code",
   "execution_count": null,
   "metadata": {},
   "outputs": [],
   "source": [
    "podesta_df.head()"
   ]
  },
  {
   "cell_type": "markdown",
   "metadata": {},
   "source": [
    "Assuming google SPAM detection is reliable and is fairly secure to tampering, temporarily omiting spam messages with spam header. \n",
    "\n",
    "\n"
   ]
  },
  {
   "cell_type": "code",
   "execution_count": null,
   "metadata": {},
   "outputs": [],
   "source": [
    "podesta_subset['spam_header'].unique()"
   ]
  },
  {
   "cell_type": "markdown",
   "metadata": {},
   "source": [
    "The listed tags do not seem to indicate the tagged messages as SPAM\n",
    "so including all emails in subset\n",
    "\n",
    "*refer header / introduction*"
   ]
  },
  {
   "cell_type": "code",
   "execution_count": null,
   "metadata": {},
   "outputs": [],
   "source": [
    "# writing the data to a csv file\n",
    "# podesta_subset.to_csv('podesta_subset.csv')"
   ]
  },
  {
   "cell_type": "code",
   "execution_count": 144,
   "metadata": {},
   "outputs": [
    {
     "data": {
      "text/plain": [
       "Index(['cc', 'originator_org', 'spam_header', 'to_email', 'from_email',\n",
       "       'to_name', 'from_name', 'conv_date', 'stprem_body'],\n",
       "      dtype='object')"
      ]
     },
     "execution_count": 144,
     "metadata": {},
     "output_type": "execute_result"
    }
   ],
   "source": [
    "pod_net = copy.deepcopy(podesta_subset)\n",
    "pod_net.columns"
   ]
  },
  {
   "cell_type": "code",
   "execution_count": 149,
   "metadata": {},
   "outputs": [],
   "source": [
    "net_podesta = pod_net.groupby(['to_name', 'from_name'])['conv_date'].count().reset_index()"
   ]
  },
  {
   "cell_type": "code",
   "execution_count": 152,
   "metadata": {},
   "outputs": [
    {
     "data": {
      "text/html": [
       "<div>\n",
       "<style scoped>\n",
       "    .dataframe tbody tr th:only-of-type {\n",
       "        vertical-align: middle;\n",
       "    }\n",
       "\n",
       "    .dataframe tbody tr th {\n",
       "        vertical-align: top;\n",
       "    }\n",
       "\n",
       "    .dataframe thead th {\n",
       "        text-align: right;\n",
       "    }\n",
       "</style>\n",
       "<table border=\"1\" class=\"dataframe\">\n",
       "  <thead>\n",
       "    <tr style=\"text-align: right;\">\n",
       "      <th></th>\n",
       "      <th>to_name</th>\n",
       "      <th>from_name</th>\n",
       "      <th>conv_date</th>\n",
       "    </tr>\n",
       "  </thead>\n",
       "  <tbody>\n",
       "    <tr>\n",
       "      <th>0</th>\n",
       "      <td>\" (john.podesta@gmail.com)\"</td>\n",
       "      <td>bjorklund, victoria b</td>\n",
       "      <td>1</td>\n",
       "    </tr>\n",
       "    <tr>\n",
       "      <th>1</th>\n",
       "      <td>\" (john.podesta@gmail.com)\"</td>\n",
       "      <td>mike berman</td>\n",
       "      <td>1</td>\n",
       "    </tr>\n",
       "    <tr>\n",
       "      <th>2</th>\n",
       "      <td>\" (john.podesta@gmail.com)\" , =?us-ascii?q?cheryl_d._mills=0d=0a_=28cheryl.mills@gmail.com=29?=</td>\n",
       "      <td>bjorklund, victoria b</td>\n",
       "      <td>1</td>\n",
       "    </tr>\n",
       "    <tr>\n",
       "      <th>3</th>\n",
       "      <td>\"\"</td>\n",
       "      <td>fwj77</td>\n",
       "      <td>7</td>\n",
       "    </tr>\n",
       "    <tr>\n",
       "      <th>4</th>\n",
       "      <td>\"'acoronel</td>\n",
       "      <td>doug band</td>\n",
       "      <td>1</td>\n",
       "    </tr>\n",
       "  </tbody>\n",
       "</table>\n",
       "</div>"
      ],
      "text/plain": [
       "                                                                                            to_name  \\\n",
       "0                                                                      \" (john.podesta@gmail.com)\"    \n",
       "1                                                                      \" (john.podesta@gmail.com)\"    \n",
       "2  \" (john.podesta@gmail.com)\" , =?us-ascii?q?cheryl_d._mills=0d=0a_=28cheryl.mills@gmail.com=29?=    \n",
       "3                                                                                               \"\"    \n",
       "4                                                                                        \"'acoronel   \n",
       "\n",
       "                from_name  conv_date  \n",
       "0  bjorklund, victoria b           1  \n",
       "1            mike berman           1  \n",
       "2  bjorklund, victoria b           1  \n",
       "3                   fwj77          7  \n",
       "4              doug band           1  "
      ]
     },
     "execution_count": 152,
     "metadata": {},
     "output_type": "execute_result"
    }
   ],
   "source": [
    "net_podesta.head()"
   ]
  },
  {
   "cell_type": "code",
   "execution_count": 156,
   "metadata": {},
   "outputs": [],
   "source": [
    "import networkx as nx\n",
    "import matplotlib.pyplot as plt"
   ]
  },
  {
   "cell_type": "code",
   "execution_count": 163,
   "metadata": {},
   "outputs": [],
   "source": [
    "nxgraph = nx.from_pandas_edgelist(net_podesta, source='from_name',\n",
    "                                  target='to_name', edge_attr='conv_date', \n",
    "                                  create_using = nx.DiGraph())"
   ]
  },
  {
   "cell_type": "code",
   "execution_count": 164,
   "metadata": {},
   "outputs": [
    {
     "data": {
      "image/png": "[encoded data removed]",
      "text/plain": [
       "<Figure size 720x648 with 1 Axes>"
      ]
     },
     "metadata": {
      "needs_background": "light"
     },
     "output_type": "display_data"
    },
    {
     "name": "stdout",
     "output_type": "stream",
     "text": [
      "8.007023930549622\n"
     ]
    }
   ],
   "source": [
    "start = time.time()\n",
    "plt.figure(figsize=(10,9))\n",
    "nx.draw_networkx(nxgraph, with_labels=False, node_size=30, linewidths=0.2)\n",
    "plt.show()\n",
    "print((time.time()-start)/60)\n",
    "# 8.3 Mins"
   ]
  },
  {
   "cell_type": "code",
   "execution_count": null,
   "metadata": {},
   "outputs": [],
   "source": [
    "'''\n",
    "email addresses need to be cleaned and entries with multiple addresses \n",
    "need to be split and cleaned with separate row added for each address (i.e.)\n",
    "there should be a single address for one to one interaction\n",
    "\n",
    "Email addresses should be minimized and unwanted addresses should be removed\n",
    "'''\n"
   ]
  },
  {
   "cell_type": "code",
   "execution_count": null,
   "metadata": {},
   "outputs": [],
   "source": []
  }
 ],
 "metadata": {
  "kernelspec": {
   "display_name": "Python 3",
   "language": "python",
   "name": "python3"
  }
 },
 "nbformat": 4,
 "nbformat_minor": 2
}
