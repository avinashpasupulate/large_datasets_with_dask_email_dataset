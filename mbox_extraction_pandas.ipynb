{
 "cells": [
  {
   "cell_type": "code",
   "execution_count": 286,
   "metadata": {},
   "outputs": [],
   "source": [
    "# importing all packages that may be required\n",
    "import os\n",
    "#import gc\n",
    "import re\n",
    "import csv\n",
    "import html\n",
    "import copy\n",
    "from tqdm import tqdm\n",
    "tqdm.pandas()\n",
    "import time\n",
    "import mailbox\n",
    "import unicodedata\n",
    "import pandas as pd\n",
    "#import multiprocessing\n",
    "from bs4 import BeautifulSoup\n",
    "from dask import dataframe as dd\n",
    "from dask.multiprocessing import get\n",
    "import nltk\n",
    "from dask.diagnostics import ProgressBar\n",
    "from nltk.stem import WordNetLemmatizer as wnl\n",
    "from nltk import pos_tag as pt\n",
    "from nltk.corpus import wordnet as wn"
   ]
  },
  {
   "cell_type": "code",
   "execution_count": 94,
   "metadata": {},
   "outputs": [],
   "source": [
    "cwd = os.getcwd()"
   ]
  },
  {
   "cell_type": "code",
   "execution_count": 95,
   "metadata": {},
   "outputs": [],
   "source": [
    "# importing mailbox\n",
    "mail_container = mailbox.mbox(cwd+'/raw_data/podesta-emails.mbox-2016-11-06')"
   ]
  },
  {
   "cell_type": "code",
   "execution_count": 113,
   "metadata": {},
   "outputs": [],
   "source": [
    "# making working copy\n",
    "mail_cp = copy.copy(mail_container)"
   ]
  },
  {
   "cell_type": "code",
   "execution_count": 243,
   "metadata": {},
   "outputs": [],
   "source": [
    "def clean(msg_content):\n",
    "    if msg_content!=None:\n",
    "        msg_clean = \"\".join([ch for ch in str(msg_content) if ord(ch)<= 128])\n",
    "        for r in ['\\\\n', '\\n', '\\t', '\\\\t', 'None', 'none']: msg_clean = msg_clean.replace(r, ' ')\n",
    "        msg_clean = re.sub(r' +', ' ', msg_clean)\n",
    "    return msg_clean"
   ]
  },
  {
   "cell_type": "code",
   "execution_count": 245,
   "metadata": {},
   "outputs": [],
   "source": [
    "def get_wordnet_pos(word):\n",
    "    if word.startswith('J'):\n",
    "        return wn.ADJ\n",
    "    elif word.startswith('V'):\n",
    "        return wn.VERB\n",
    "    elif word.startswith('N'):\n",
    "        return wn.NOUN\n",
    "    elif word.startswith('R'):\n",
    "        return wn.ADV\n",
    "    else:\n",
    "        return wn.NOUN\n",
    "\n",
    "def lemat(msg_clean):\n",
    "    l=[]\n",
    "    msg_clean = nltk.word_tokenize(msg_clean)\n",
    "    ptag = pt(msg_clean)\n",
    "    for word in ptag:\n",
    "        lem = wnl().lemmatize(word[0], get_wordnet_pos(word[1]))\n",
    "        if lem!=None or lem!='' or lem!=' ':\n",
    "            l.append(str(lem.lower()))\n",
    "        else:\n",
    "            pass\n",
    "    return ' '.join(w for w in l)"
   ]
  },
  {
   "cell_type": "code",
   "execution_count": 247,
   "metadata": {},
   "outputs": [],
   "source": [
    "def extract(mail_cp):\n",
    "    try:\n",
    "        with open('podesta_mailbox_1.csv', 'w', encoding='utf-8', newline='') as file:\n",
    "            writer = csv.writer(file)\n",
    "            writer.writerow(['date', 'from', 'to', 'subject', 'originator_org', 'spam_header', 'msg_body'])\n",
    "            for mail in mail_cp.itervalues():\n",
    "                if mail.is_multipart():\n",
    "                    for part in mail.walk():\n",
    "                        if part.get_content_type()=='text/plain':\n",
    "                            msg_content = part.get_payload(decode=True)\n",
    "                else:\n",
    "                    if mail.get_content_type()=='text/plain':\n",
    "                        msg_content = mail.get_payload(decode=True)\n",
    "                writer.writerow([mail['Date'], mail['From'], mail['To'],\n",
    "                                 mail['Subject'], mail['X-OriginatorOrg'],\n",
    "                                 mail['SpamDiagnosticMetadata'],clean(msg_content.lower())])\n",
    "    except:\n",
    "        pass"
   ]
  },
  {
   "cell_type": "code",
   "execution_count": 248,
   "metadata": {},
   "outputs": [
    {
     "name": "stdout",
     "output_type": "stream",
     "text": [
      "CPU times: user 22min 38s, sys: 13.7 s, total: 22min 52s\n",
      "Wall time: 23min 19s\n"
     ]
    }
   ],
   "source": [
    "# running function and display time\n",
    "%time extract(mail_cp)\n",
    "# 15 mins - 9.18 gb"
   ]
  },
  {
   "cell_type": "code",
   "execution_count": null,
   "metadata": {},
   "outputs": [],
   "source": [
    "# deleting unwanted variables\n",
    "%who\n",
    "del extract\n",
    "del mail_cp\n",
    "del mailbox\n",
    "del mail_container"
   ]
  },
  {
   "cell_type": "code",
   "execution_count": null,
   "metadata": {},
   "outputs": [],
   "source": [
    "# spam headers = https://docs.microsoft.com/en-us/office365/securitycompliance/anti-spam-message-headers"
   ]
  },
  {
   "cell_type": "code",
   "execution_count": 249,
   "metadata": {},
   "outputs": [],
   "source": [
    "# listing datatypes of dataframe and including in importing csv with 50Mb blocksize\n",
    "dtypes={'from': 'object', 'to': 'object', 'subject': 'object', 'originator_org': 'object', 'spam_header': 'object','msg_body': 'object'}\n",
    "podesta = pd.read_csv(cwd+'/podesta_mailbox.csv', dtype=dtypes, parse_dates=True)"
   ]
  },
  {
   "cell_type": "code",
   "execution_count": 250,
   "metadata": {},
   "outputs": [
    {
     "data": {
      "text/html": [
       "<div>\n",
       "<style scoped>\n",
       "    .dataframe tbody tr th:only-of-type {\n",
       "        vertical-align: middle;\n",
       "    }\n",
       "\n",
       "    .dataframe tbody tr th {\n",
       "        vertical-align: top;\n",
       "    }\n",
       "\n",
       "    .dataframe thead th {\n",
       "        text-align: right;\n",
       "    }\n",
       "</style>\n",
       "<table border=\"1\" class=\"dataframe\">\n",
       "  <thead>\n",
       "    <tr style=\"text-align: right;\">\n",
       "      <th></th>\n",
       "      <th>date</th>\n",
       "      <th>from</th>\n",
       "      <th>to</th>\n",
       "      <th>subject</th>\n",
       "      <th>originator_org</th>\n",
       "      <th>spam_header</th>\n",
       "      <th>msg_body</th>\n",
       "    </tr>\n",
       "  </thead>\n",
       "  <tbody>\n",
       "    <tr>\n",
       "      <th>0</th>\n",
       "      <td>Fri, 3 Apr 2015 14:06:30 +0000</td>\n",
       "      <td>Tina Flournoy &lt;Tina@presidentclinton.com&gt;</td>\n",
       "      <td>John Podesta &lt;john.podesta@gmail.com&gt;</td>\n",
       "      <td>just talked to him</td>\n",
       "      <td>NaN</td>\n",
       "      <td>NaN</td>\n",
       "      <td>b' sc was the first thing he mentioned. told h...</td>\n",
       "    </tr>\n",
       "    <tr>\n",
       "      <th>1</th>\n",
       "      <td>Mon, 22 Feb 2016 23:00:30 +0000</td>\n",
       "      <td>Ira Shapiro &lt;ira@shapiroglobal.com&gt;</td>\n",
       "      <td>John Podesta &lt;john.podesta@gmail.com&gt;</td>\n",
       "      <td>today's fundraiser</td>\n",
       "      <td>shapiroglobal.com</td>\n",
       "      <td>NSPM</td>\n",
       "      <td>b\"john, sorry we didn't get to visit this morn...</td>\n",
       "    </tr>\n",
       "  </tbody>\n",
       "</table>\n",
       "</div>"
      ],
      "text/plain": [
       "                              date                                       from  \\\n",
       "0   Fri, 3 Apr 2015 14:06:30 +0000  Tina Flournoy <Tina@presidentclinton.com>   \n",
       "1  Mon, 22 Feb 2016 23:00:30 +0000        Ira Shapiro <ira@shapiroglobal.com>   \n",
       "\n",
       "                                      to             subject  \\\n",
       "0  John Podesta <john.podesta@gmail.com>  just talked to him   \n",
       "1  John Podesta <john.podesta@gmail.com>  today's fundraiser   \n",
       "\n",
       "      originator_org spam_header  \\\n",
       "0                NaN         NaN   \n",
       "1  shapiroglobal.com        NSPM   \n",
       "\n",
       "                                            msg_body  \n",
       "0  b' sc was the first thing he mentioned. told h...  \n",
       "1  b\"john, sorry we didn't get to visit this morn...  "
      ]
     },
     "execution_count": 250,
     "metadata": {},
     "output_type": "execute_result"
    }
   ],
   "source": [
    "podesta.head(2)"
   ]
  },
  {
   "cell_type": "code",
   "execution_count": 251,
   "metadata": {},
   "outputs": [],
   "source": [
    "def mail_ext(x):\n",
    "    x = re.search(r'\\S+@\\S+', str(x).lower())\n",
    "    if x:\n",
    "        return (x.group().replace('>','').replace('<','').lower())\n",
    "\n",
    "def name_r(em):\n",
    "    em = str(em).lower()\n",
    "    t = re.sub(r'\\S+@\\S+', '', em)\n",
    "    if  t==None or t==\" \" or t==\"\":\n",
    "        return re.search(r'.*?(?=@)', em).group().replace('>','').replace('<','').replace('.',' ')\n",
    "    else:\n",
    "        return re.sub(r'\\S+@\\S+', '', em)    "
   ]
  },
  {
   "cell_type": "code",
   "execution_count": 252,
   "metadata": {
    "scrolled": true
   },
   "outputs": [],
   "source": [
    "podesta['to_email'] = podesta.to.apply(lambda x: mail_ext(x))\n",
    "podesta['from_email'] = podesta['from'].apply(lambda x: mail_ext(x))\n",
    "\n",
    "podesta['to_name'] = podesta.to.apply(lambda x: name_r(x))\n",
    "podesta['from_name'] = podesta['from'].apply(lambda x: name_r(x))\n"
   ]
  },
  {
   "cell_type": "code",
   "execution_count": 253,
   "metadata": {},
   "outputs": [
    {
     "data": {
      "text/html": [
       "<div>\n",
       "<style scoped>\n",
       "    .dataframe tbody tr th:only-of-type {\n",
       "        vertical-align: middle;\n",
       "    }\n",
       "\n",
       "    .dataframe tbody tr th {\n",
       "        vertical-align: top;\n",
       "    }\n",
       "\n",
       "    .dataframe thead th {\n",
       "        text-align: right;\n",
       "    }\n",
       "</style>\n",
       "<table border=\"1\" class=\"dataframe\">\n",
       "  <thead>\n",
       "    <tr style=\"text-align: right;\">\n",
       "      <th></th>\n",
       "      <th>date</th>\n",
       "      <th>from</th>\n",
       "      <th>to</th>\n",
       "      <th>subject</th>\n",
       "      <th>originator_org</th>\n",
       "      <th>spam_header</th>\n",
       "      <th>msg_body</th>\n",
       "      <th>to_email</th>\n",
       "      <th>from_email</th>\n",
       "      <th>to_name</th>\n",
       "      <th>from_name</th>\n",
       "    </tr>\n",
       "  </thead>\n",
       "  <tbody>\n",
       "    <tr>\n",
       "      <th>0</th>\n",
       "      <td>Fri, 3 Apr 2015 14:06:30 +0000</td>\n",
       "      <td>Tina Flournoy &lt;Tina@presidentclinton.com&gt;</td>\n",
       "      <td>John Podesta &lt;john.podesta@gmail.com&gt;</td>\n",
       "      <td>just talked to him</td>\n",
       "      <td>NaN</td>\n",
       "      <td>NaN</td>\n",
       "      <td>b' sc was the first thing he mentioned. told h...</td>\n",
       "      <td>john.podesta@gmail.com</td>\n",
       "      <td>tina@presidentclinton.com</td>\n",
       "      <td>john podesta</td>\n",
       "      <td>tina flournoy</td>\n",
       "    </tr>\n",
       "    <tr>\n",
       "      <th>1</th>\n",
       "      <td>Mon, 22 Feb 2016 23:00:30 +0000</td>\n",
       "      <td>Ira Shapiro &lt;ira@shapiroglobal.com&gt;</td>\n",
       "      <td>John Podesta &lt;john.podesta@gmail.com&gt;</td>\n",
       "      <td>today's fundraiser</td>\n",
       "      <td>shapiroglobal.com</td>\n",
       "      <td>NSPM</td>\n",
       "      <td>b\"john, sorry we didn't get to visit this morn...</td>\n",
       "      <td>john.podesta@gmail.com</td>\n",
       "      <td>ira@shapiroglobal.com</td>\n",
       "      <td>john podesta</td>\n",
       "      <td>ira shapiro</td>\n",
       "    </tr>\n",
       "  </tbody>\n",
       "</table>\n",
       "</div>"
      ],
      "text/plain": [
       "                              date                                       from  \\\n",
       "0   Fri, 3 Apr 2015 14:06:30 +0000  Tina Flournoy <Tina@presidentclinton.com>   \n",
       "1  Mon, 22 Feb 2016 23:00:30 +0000        Ira Shapiro <ira@shapiroglobal.com>   \n",
       "\n",
       "                                      to             subject  \\\n",
       "0  John Podesta <john.podesta@gmail.com>  just talked to him   \n",
       "1  John Podesta <john.podesta@gmail.com>  today's fundraiser   \n",
       "\n",
       "      originator_org spam_header  \\\n",
       "0                NaN         NaN   \n",
       "1  shapiroglobal.com        NSPM   \n",
       "\n",
       "                                            msg_body                to_email  \\\n",
       "0  b' sc was the first thing he mentioned. told h...  john.podesta@gmail.com   \n",
       "1  b\"john, sorry we didn't get to visit this morn...  john.podesta@gmail.com   \n",
       "\n",
       "                  from_email        to_name       from_name  \n",
       "0  tina@presidentclinton.com  john podesta   tina flournoy   \n",
       "1      ira@shapiroglobal.com  john podesta     ira shapiro   "
      ]
     },
     "execution_count": 253,
     "metadata": {},
     "output_type": "execute_result"
    }
   ],
   "source": [
    "podesta.head(2)"
   ]
  },
  {
   "cell_type": "code",
   "execution_count": 267,
   "metadata": {},
   "outputs": [],
   "source": []
  },
  {
   "cell_type": "code",
   "execution_count": 271,
   "metadata": {},
   "outputs": [],
   "source": [
    "%time podesta['lem_body']=podesta.msg_body.progress_apply(lambda x: lemat(x))"
   ]
  },
  {
   "cell_type": "code",
   "execution_count": 270,
   "metadata": {},
   "outputs": [],
   "source": [
    "#podesta_dd = dd.from_pandas(podesta, npartitions=4)"
   ]
  },
  {
   "cell_type": "code",
   "execution_count": 285,
   "metadata": {},
   "outputs": [],
   "source": [
    "#podesta_dd"
   ]
  },
  {
   "cell_type": "code",
   "execution_count": 284,
   "metadata": {},
   "outputs": [],
   "source": [
    "#%time pod_lemat = podesta_dd.apply(lambda df: lemat(df.msg_body), meta=pd.Series(dtype='object', name='lemat_body'), axis=1)\n",
    "\n",
    "#pod_lemat.head(2).compute()\n",
    "\n",
    "#with ProgressBar():\n",
    "#    podesta['lemat_body'] = pod_lemat.compute(scheduler='processes')"
   ]
  },
  {
   "cell_type": "code",
   "execution_count": 275,
   "metadata": {},
   "outputs": [],
   "source": [
    "# podesta['lenat_body']=podesta_dd.map_partitions(lambda df: df.msg_body.apply(lemat), meta=pd.Series(dtype='object', name='lemat_body'))\n"
   ]
  },
  {
   "cell_type": "code",
   "execution_count": 237,
   "metadata": {},
   "outputs": [
    {
     "name": "stdout",
     "output_type": "stream",
     "text": [
      "BeautifulSoup\t clean\t copy\t csv\t cwd\t dd\t dtypes\t e\t em\t \n",
      "extract\t get\t html\t mail\t mail_container\t mail_cp\t mail_ext\t mailbox\t msg_content\t \n",
      "name_r\t nltk\t os\t part\t pd\t podesta\t pt\t re\t time\t \n",
      "unicodedata\t wn\t wnl\t \n"
     ]
    }
   ],
   "source": [
    "% who"
   ]
  }
 ],
 "metadata": {
  "kernelspec": {
   "display_name": "Python 3",
   "language": "python",
   "name": "python3"
  },
  "language_info": {
   "codemirror_mode": {
    "name": "ipython",
    "version": 3
   },
   "file_extension": ".py",
   "mimetype": "text/x-python",
   "name": "python",
   "nbconvert_exporter": "python",
   "pygments_lexer": "ipython3",
   "version": "3.5.6"
  }
 },
 "nbformat": 4,
 "nbformat_minor": 2
}
